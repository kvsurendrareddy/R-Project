{
 "cells": [
  {
   "cell_type": "markdown",
   "metadata": {},
   "source": [
    "<center><img src=\"https://cf-courses-data.s3.us.cloud-object-storage.appdomain.cloud/assets/logos/SN_web_lightmode.png\" width=\"300\"></center><br/>\n",
    "\n",
    "# Assignment: Notebook for Peer Assignment\n",
    "\n",
    "Estimated time needed: 60 minutes\n"
   ]
  },
  {
   "cell_type": "markdown",
   "metadata": {},
   "source": [
    "# Assignment Scenario\n",
    "\n",
    "Congratulations! You have just been hired by a US Weather forecast firm as a data scientist.\n",
    "\n",
    "The company is considering the weather condition to help predict the possibility of precipitations, which involves using various local climatological variables, including temperature, wind speed, humidity, dew point, and pressure. The data you will be handling was collected by a NOAA weather station located at the John F. Kennedy International Airport in Queens, New York.\n",
    "\n",
    "Your task is to provide a high level analysis of weather data in JFK Airport. Your stakeholders want to understand the current and historical record of precipitations based on different variables. For now they are mainly interested in a macro-view of JFK Airport Weather, and how it relates to the possibility to rain because it will affect flight delays and etc.\n"
   ]
  },
  {
   "cell_type": "markdown",
   "metadata": {},
   "source": [
    "# Introduction\n",
    "\n",
    "This project relates to the NOAA Weather Dataset - JFK Airport (New York). The original dataset contains 114,546 hourly observations of 12 local climatological variables (such as temperature and wind speed) collected at JFK airport. This dataset can be obtained for free from the IBM Developer [Data Asset Exchange](https://developer.ibm.com/exchanges/data/all/jfk-weather-data/). \n",
    "\n",
    "For this project, you will be using a subset dataset, which contains 5727 rows (about 5% or original rows) and 9 columns. The end goal will be to predict the precipitation using some of the available features. In this project, you will practice reading data files, preprocessing data, creating models, improving models and evaluating them to ultimately choose the best model.\n",
    "\n"
   ]
  },
  {
   "cell_type": "markdown",
   "metadata": {},
   "source": [
    "\n",
    "## Table of Contents:\n",
    "\n",
    "Using this R notebook you will complete **10 tasks**:\n",
    "* [0. Import Modules](#cell0)\n",
    "* [1. Download and Unzip NOAA Weather Dataset](#cell1)\n",
    "* [2. Read Dataset into Project](#cell2)\n",
    "* [3. Select Subset of Columns](#cell3)\n",
    "* [4. Clean Up Columns](#cell4)\n",
    "* [5. Convert Columns to Numerical Types](#cell5)\n",
    "* [6. Rename Columns](#cell6)\n",
    "* [7. Exploratory Data Analysis](#cell7)\n",
    "* [8. Linear Regression](#cell8)\n",
    "* [9. Improve the Model](#cell9)\n",
    "* [10. Find Best Model](#cell10)\n",
    "\n",
    "\n",
    "<a id=\"cell0\"></a>\n",
    "## 0. Import required modules\n",
    "\n",
    "Tidymodels is a collection of packages that use tidyverse principles to easily do the entire modeling process from preprocessing initial data, to creating a model, to tunning hyperparameters. The tidymodels packages can be used to produce high quality statistical and machine learning models. Our Jupyter notebook platforms have a built-in Tidyverse, Tidymodels and rlang packages so we do not need to install these packages prior to loading library. However, if you decide to run this lab on your RStudio Desktop locally on your machine, you can remove the commented lines of code to install these packages before loading.\n",
    " \n"
   ]
  },
  {
   "cell_type": "code",
   "execution_count": null,
   "metadata": {
    "tags": []
   },
   "outputs": [],
   "source": [
    "# Install tidymodels if you haven't done so\n",
    "#install.packages(\"rlang\")\n",
    "#install.packages(\"tidymodels\")"
   ]
  },
  {
   "cell_type": "markdown",
   "metadata": {},
   "source": [
    "**Note: After installing the packages, restart the kernel. Without installing the packages again, load them. Tidyverse and Tidymodels will be the two main packages you will use.**\n"
   ]
  },
  {
   "cell_type": "code",
   "execution_count": 4,
   "metadata": {
    "tags": []
   },
   "outputs": [
    {
     "name": "stderr",
     "output_type": "stream",
     "text": [
      "── Attaching packages ────────────────────────────────────── tidymodels 0.1.0 ──\n",
      "✔ broom     0.5.6      ✔ recipes   0.1.12\n",
      "✔ dials     0.0.6      ✔ rsample   0.0.5 \n",
      "✔ dplyr     0.8.5      ✔ tibble    3.0.1 \n",
      "✔ ggplot2   3.3.0      ✔ tune      0.1.0 \n",
      "✔ infer     0.5.1      ✔ workflows 0.1.1 \n",
      "✔ parsnip   0.1.0      ✔ yardstick 0.0.6 \n",
      "✔ purrr     0.3.4      \n",
      "── Conflicts ───────────────────────────────────────── tidymodels_conflicts() ──\n",
      "✖ purrr::discard()  masks scales::discard()\n",
      "✖ dplyr::filter()   masks stats::filter()\n",
      "✖ dplyr::lag()      masks stats::lag()\n",
      "✖ ggplot2::margin() masks dials::margin()\n",
      "✖ recipes::step()   masks stats::step()\n",
      "── Attaching packages ─────────────────────────────────────── tidyverse 1.3.0 ──\n",
      "✔ readr   1.3.1     ✔ forcats 0.5.0\n",
      "✔ stringr 1.4.0     \n",
      "── Conflicts ────────────────────────────────────────── tidyverse_conflicts() ──\n",
      "✖ readr::col_factor() masks scales::col_factor()\n",
      "✖ purrr::discard()    masks scales::discard()\n",
      "✖ dplyr::filter()     masks stats::filter()\n",
      "✖ stringr::fixed()    masks recipes::fixed()\n",
      "✖ dplyr::lag()        masks stats::lag()\n",
      "✖ ggplot2::margin()   masks dials::margin()\n",
      "✖ readr::spec()       masks yardstick::spec()\n"
     ]
    }
   ],
   "source": [
    "# Library for modeling\n",
    "library(tidymodels)\n",
    "\n",
    "# Load tidyverse\n",
    "library(tidyverse)"
   ]
  },
  {
   "cell_type": "markdown",
   "metadata": {},
   "source": [
    "\n",
    "### Understand the Dataset\n",
    "\n",
    "The original NOAA JFK dataset contains 114,546 hourly observations of various local climatological variables (including temperature, wind speed, humidity, dew point, and pressure). \n",
    "\n",
    "In this project you will use a sample dataset, which is around 293 KB. [Link to the sample dataset](https://dax-cdn.cdn.appdomain.cloud/dax-noaa-weather-data-jfk-airport/1.1.4/noaa-weather-sample-data.tar.gz).\n",
    "\n",
    "The sample contains 5727 rows (about 5% or original rows) and 9 columns, which are:\n",
    "- DATE\n",
    "- HOURLYDewPointTempF\n",
    "- HOURLYRelativeHumidity\n",
    "- HOURLYDRYBULBTEMPF\n",
    "- HOURLYWETBULBTEMPF\n",
    "- HOURLYPrecip\n",
    "- HOURLYWindSpeed\n",
    "- HOURLYSeaLevelPressure\n",
    "- HOURLYStationPressure\n",
    "\n",
    "The original dataset is much bigger. Feel free to explore the original dataset. [Link to the original dataset.](https://dax-cdn.cdn.appdomain.cloud/dax-noaa-weather-data-jfk-airport/1.1.4/noaa_weather.html) \n",
    "\n",
    "For more information about the dataset, checkout the [preview](https://dax-cdn.cdn.appdomain.cloud/dax-noaa-weather-data-jfk-airport/1.1.4/data-preview/index.html?_ga=2.176781478.281508226.1616293518-1509963377.1616117067&cm_mc_uid=90945889198916153255549&cm_mc_sid_50200000=64650651616293516933) of NOAA Weather - JFK Airport.\n"
   ]
  },
  {
   "cell_type": "markdown",
   "metadata": {},
   "source": [
    "Data Analysis with R<a id=\"cell1\"></a>\n",
    "\n",
    "## 1. Download NOAA Weather Dataset\n",
    "\n",
    "Use the `download.file()` function to download the sample dataset from the URL below.\n",
    "\n",
    "URL = 'https://dax-cdn.cdn.appdomain.cloud/dax-noaa-weather-data-jfk-airport/1.1.4/noaa-weather-sample-data.tar.gz'\n"
   ]
  },
  {
   "cell_type": "code",
   "execution_count": 1,
   "metadata": {
    "tags": []
   },
   "outputs": [],
   "source": [
    "url <- 'https://dax-cdn.cdn.appdomain.cloud/dax-noaa-weather-data-jfk-airport/1.1.4/noaa-weather-sample-data.tar.gz'\n",
    "download.file(url, destfile = \"noaa-weather-sample-data.tar.gz\")"
   ]
  },
  {
   "cell_type": "markdown",
   "metadata": {},
   "source": [
    "Untar the zipped file.\n"
   ]
  },
  {
   "cell_type": "code",
   "execution_count": 2,
   "metadata": {
    "tags": []
   },
   "outputs": [
    {
     "name": "stderr",
     "output_type": "stream",
     "text": [
      "Warning message in untar2(tarfile, files, list, exdir, restore_times):\n",
      "“using pax extended headers”"
     ]
    }
   ],
   "source": [
    "untar(\"noaa-weather-sample-data.tar.gz\", tar = \"internal\")"
   ]
  },
  {
   "cell_type": "markdown",
   "metadata": {},
   "source": [
    "<a id=\"cell2\"></a>\n",
    "## 2. Extract and Read into Project\n",
    "We start by reading in the raw dataset. You should specify the file name as \"noaa-weather-sample-data/jfk_weather_sample.csv\".\n"
   ]
  },
  {
   "cell_type": "code",
   "execution_count": 6,
   "metadata": {
    "tags": []
   },
   "outputs": [],
   "source": [
    "jfk_weather  <- read_csv(\"noaa-weather-sample-data/jfk_weather_sample.csv\", \n",
    "                                                            col_types= cols(\"DATE\" = col_number(),\n",
    "                                                                           \"HOURLYDewPointTempF\" = col_number()))"
   ]
  },
  {
   "cell_type": "markdown",
   "metadata": {},
   "source": [
    "Next, display the first few rows of the dataframe.\n"
   ]
  },
  {
   "cell_type": "code",
   "execution_count": 7,
   "metadata": {},
   "outputs": [
    {
     "data": {
      "text/html": [
       "<table>\n",
       "<caption>A tibble: 6 × 9</caption>\n",
       "<thead>\n",
       "\t<tr><th scope=col>DATE</th><th scope=col>HOURLYDewPointTempF</th><th scope=col>HOURLYRelativeHumidity</th><th scope=col>HOURLYDRYBULBTEMPF</th><th scope=col>HOURLYWETBULBTEMPF</th><th scope=col>HOURLYPrecip</th><th scope=col>HOURLYWindSpeed</th><th scope=col>HOURLYSeaLevelPressure</th><th scope=col>HOURLYStationPressure</th></tr>\n",
       "\t<tr><th scope=col>&lt;dbl&gt;</th><th scope=col>&lt;dbl&gt;</th><th scope=col>&lt;dbl&gt;</th><th scope=col>&lt;dbl&gt;</th><th scope=col>&lt;dbl&gt;</th><th scope=col>&lt;chr&gt;</th><th scope=col>&lt;dbl&gt;</th><th scope=col>&lt;dbl&gt;</th><th scope=col>&lt;dbl&gt;</th></tr>\n",
       "</thead>\n",
       "<tbody>\n",
       "\t<tr><td>2015</td><td>60</td><td>46</td><td>83</td><td>68</td><td>0.00</td><td>13</td><td>30.01</td><td>29.99</td></tr>\n",
       "\t<tr><td>2016</td><td>34</td><td>48</td><td>53</td><td>44</td><td>0.00</td><td> 6</td><td>30.05</td><td>30.03</td></tr>\n",
       "\t<tr><td>2013</td><td>33</td><td>89</td><td>36</td><td>35</td><td>0.00</td><td>13</td><td>30.14</td><td>30.12</td></tr>\n",
       "\t<tr><td>2011</td><td>18</td><td>48</td><td>36</td><td>30</td><td>0.00</td><td>14</td><td>29.82</td><td>29.80</td></tr>\n",
       "\t<tr><td>2015</td><td>27</td><td>61</td><td>39</td><td>34</td><td>T   </td><td>11</td><td>   NA</td><td>30.50</td></tr>\n",
       "\t<tr><td>2013</td><td>35</td><td>79</td><td>41</td><td>38</td><td>0.00</td><td> 6</td><td>29.94</td><td>29.92</td></tr>\n",
       "</tbody>\n",
       "</table>\n"
      ],
      "text/latex": [
       "A tibble: 6 × 9\n",
       "\\begin{tabular}{lllllllll}\n",
       " DATE & HOURLYDewPointTempF & HOURLYRelativeHumidity & HOURLYDRYBULBTEMPF & HOURLYWETBULBTEMPF & HOURLYPrecip & HOURLYWindSpeed & HOURLYSeaLevelPressure & HOURLYStationPressure\\\\\n",
       " <dbl> & <dbl> & <dbl> & <dbl> & <dbl> & <chr> & <dbl> & <dbl> & <dbl>\\\\\n",
       "\\hline\n",
       "\t 2015 & 60 & 46 & 83 & 68 & 0.00 & 13 & 30.01 & 29.99\\\\\n",
       "\t 2016 & 34 & 48 & 53 & 44 & 0.00 &  6 & 30.05 & 30.03\\\\\n",
       "\t 2013 & 33 & 89 & 36 & 35 & 0.00 & 13 & 30.14 & 30.12\\\\\n",
       "\t 2011 & 18 & 48 & 36 & 30 & 0.00 & 14 & 29.82 & 29.80\\\\\n",
       "\t 2015 & 27 & 61 & 39 & 34 & T    & 11 &    NA & 30.50\\\\\n",
       "\t 2013 & 35 & 79 & 41 & 38 & 0.00 &  6 & 29.94 & 29.92\\\\\n",
       "\\end{tabular}\n"
      ],
      "text/markdown": [
       "\n",
       "A tibble: 6 × 9\n",
       "\n",
       "| DATE &lt;dbl&gt; | HOURLYDewPointTempF &lt;dbl&gt; | HOURLYRelativeHumidity &lt;dbl&gt; | HOURLYDRYBULBTEMPF &lt;dbl&gt; | HOURLYWETBULBTEMPF &lt;dbl&gt; | HOURLYPrecip &lt;chr&gt; | HOURLYWindSpeed &lt;dbl&gt; | HOURLYSeaLevelPressure &lt;dbl&gt; | HOURLYStationPressure &lt;dbl&gt; |\n",
       "|---|---|---|---|---|---|---|---|---|\n",
       "| 2015 | 60 | 46 | 83 | 68 | 0.00 | 13 | 30.01 | 29.99 |\n",
       "| 2016 | 34 | 48 | 53 | 44 | 0.00 |  6 | 30.05 | 30.03 |\n",
       "| 2013 | 33 | 89 | 36 | 35 | 0.00 | 13 | 30.14 | 30.12 |\n",
       "| 2011 | 18 | 48 | 36 | 30 | 0.00 | 14 | 29.82 | 29.80 |\n",
       "| 2015 | 27 | 61 | 39 | 34 | T    | 11 |    NA | 30.50 |\n",
       "| 2013 | 35 | 79 | 41 | 38 | 0.00 |  6 | 29.94 | 29.92 |\n",
       "\n"
      ],
      "text/plain": [
       "  DATE HOURLYDewPointTempF HOURLYRelativeHumidity HOURLYDRYBULBTEMPF\n",
       "1 2015 60                  46                     83                \n",
       "2 2016 34                  48                     53                \n",
       "3 2013 33                  89                     36                \n",
       "4 2011 18                  48                     36                \n",
       "5 2015 27                  61                     39                \n",
       "6 2013 35                  79                     41                \n",
       "  HOURLYWETBULBTEMPF HOURLYPrecip HOURLYWindSpeed HOURLYSeaLevelPressure\n",
       "1 68                 0.00         13              30.01                 \n",
       "2 44                 0.00          6              30.05                 \n",
       "3 35                 0.00         13              30.14                 \n",
       "4 30                 0.00         14              29.82                 \n",
       "5 34                 T            11                 NA                 \n",
       "6 38                 0.00          6              29.94                 \n",
       "  HOURLYStationPressure\n",
       "1 29.99                \n",
       "2 30.03                \n",
       "3 30.12                \n",
       "4 29.80                \n",
       "5 30.50                \n",
       "6 29.92                "
      ]
     },
     "metadata": {},
     "output_type": "display_data"
    }
   ],
   "source": [
    "head(jfk_weather)"
   ]
  },
  {
   "cell_type": "markdown",
   "metadata": {},
   "source": [
    "Also, take a `glimpse` of the dataset to see the different column data types and make sure it is the correct subset dataset with about 5700 rows and 9 columns.\n"
   ]
  },
  {
   "cell_type": "code",
   "execution_count": 8,
   "metadata": {},
   "outputs": [
    {
     "name": "stdout",
     "output_type": "stream",
     "text": [
      "Rows: 5,727\n",
      "Columns: 9\n",
      "$ DATE                   <dbl> 2015, 2016, 2013, 2011, 2015, 2013, 2014, 2014…\n",
      "$ HOURLYDewPointTempF    <dbl> 60, 34, 33, 18, 27, 35, 4, 14, 51, 71, 76, 19,…\n",
      "$ HOURLYRelativeHumidity <dbl> 46, 48, 89, 48, 61, 79, 51, 65, 90, 94, 79, 37…\n",
      "$ HOURLYDRYBULBTEMPF     <dbl> 83, 53, 36, 36, 39, 41, 19, 24, 54, 73, 83, 44…\n",
      "$ HOURLYWETBULBTEMPF     <dbl> 68, 44, 35, 30, 34, 38, 15, 21, 52, 72, 78, 35…\n",
      "$ HOURLYPrecip           <chr> \"0.00\", \"0.00\", \"0.00\", \"0.00\", \"T\", \"0.00\", \"…\n",
      "$ HOURLYWindSpeed        <dbl> 13, 6, 13, 14, 11, 6, 0, 11, 11, 5, 21, 7, 17,…\n",
      "$ HOURLYSeaLevelPressure <dbl> 30.01, 30.05, 30.14, 29.82, NA, 29.94, 30.42, …\n",
      "$ HOURLYStationPressure  <dbl> 29.99, 30.03, 30.12, 29.80, 30.50, 29.92, 30.4…\n"
     ]
    }
   ],
   "source": [
    "glimpse(jfk_weather)"
   ]
  },
  {
   "cell_type": "markdown",
   "metadata": {},
   "source": [
    "<a id=\"cell3\"></a>\n",
    "## 3. Select Subset of Columns\n",
    "\n",
    "The end goal of this project will be to predict `HOURLYprecip` (precipitation) using a few other variables. Before you can do this, you first need to preprocess the dataset. Section 3 to section 6 focuses on preprocessing.\n",
    "\n",
    "The first step in preprocessing is to select a subset of data columns and inspect the column types.\n",
    "\n",
    "The key columns that we will explore in this project are:\n",
    "- HOURLYRelativeHumidity\n",
    "- HOURLYDRYBULBTEMPF\n",
    "- HOURLYPrecip\n",
    "- HOURLYWindSpeed\n",
    "- HOURLYStationPressure\n",
    "\n",
    "Data Glossary:\n",
    "- 'HOURLYRelativeHumidity' is the relative humidity given to the nearest whole percentage.\n",
    "- 'HOURLYDRYBULBTEMPF' is the dry-bulb temperature and is commonly used as the standard air temperature reported. It is given here in whole degrees Fahrenheit.\n",
    "- 'HOURLYPrecip' is the amount of precipitation in inches to hundredths over the past hour. For certain automated stations, precipitation will be reported at sub-hourly intervals (e.g. every 15 or 20 minutes) as an accumulated amount of all precipitation within the preceding hour. A “T” indicates a trace amount of precipitation.\n",
    "- 'HOURLYWindSpeed' is the speed of the wind at the time of observation given in miles per hour (mph).\n",
    "- 'HOURLYStationPressure' is the atmospheric pressure observed at the station during the time of observation. Given in inches of Mercury (in Hg).\n",
    "\n",
    "`Select` those five columns and store the modified dataframe as a new variable.\n"
   ]
  },
  {
   "cell_type": "code",
   "execution_count": 9,
   "metadata": {},
   "outputs": [],
   "source": [
    "sub_jfk_weather <- select(jfk_weather, c(HOURLYRelativeHumidity, HOURLYDRYBULBTEMPF, HOURLYPrecip, HOURLYWindSpeed, HOURLYStationPressure))"
   ]
  },
  {
   "cell_type": "markdown",
   "metadata": {},
   "source": [
    "Show the first 10 rows of this new dataframe.\n"
   ]
  },
  {
   "cell_type": "code",
   "execution_count": 10,
   "metadata": {},
   "outputs": [
    {
     "data": {
      "text/html": [
       "<table>\n",
       "<caption>A tibble: 10 × 5</caption>\n",
       "<thead>\n",
       "\t<tr><th scope=col>HOURLYRelativeHumidity</th><th scope=col>HOURLYDRYBULBTEMPF</th><th scope=col>HOURLYPrecip</th><th scope=col>HOURLYWindSpeed</th><th scope=col>HOURLYStationPressure</th></tr>\n",
       "\t<tr><th scope=col>&lt;dbl&gt;</th><th scope=col>&lt;dbl&gt;</th><th scope=col>&lt;chr&gt;</th><th scope=col>&lt;dbl&gt;</th><th scope=col>&lt;dbl&gt;</th></tr>\n",
       "</thead>\n",
       "<tbody>\n",
       "\t<tr><td>46</td><td>83</td><td>0.00</td><td>13</td><td>29.99</td></tr>\n",
       "\t<tr><td>48</td><td>53</td><td>0.00</td><td> 6</td><td>30.03</td></tr>\n",
       "\t<tr><td>89</td><td>36</td><td>0.00</td><td>13</td><td>30.12</td></tr>\n",
       "\t<tr><td>48</td><td>36</td><td>0.00</td><td>14</td><td>29.80</td></tr>\n",
       "\t<tr><td>61</td><td>39</td><td>T   </td><td>11</td><td>30.50</td></tr>\n",
       "\t<tr><td>79</td><td>41</td><td>0.00</td><td> 6</td><td>29.92</td></tr>\n",
       "\t<tr><td>51</td><td>19</td><td>0.00</td><td> 0</td><td>30.40</td></tr>\n",
       "\t<tr><td>65</td><td>24</td><td>0.00</td><td>11</td><td>30.35</td></tr>\n",
       "\t<tr><td>90</td><td>54</td><td>0.06</td><td>11</td><td>30.03</td></tr>\n",
       "\t<tr><td>94</td><td>73</td><td>NA  </td><td> 5</td><td>29.91</td></tr>\n",
       "</tbody>\n",
       "</table>\n"
      ],
      "text/latex": [
       "A tibble: 10 × 5\n",
       "\\begin{tabular}{lllll}\n",
       " HOURLYRelativeHumidity & HOURLYDRYBULBTEMPF & HOURLYPrecip & HOURLYWindSpeed & HOURLYStationPressure\\\\\n",
       " <dbl> & <dbl> & <chr> & <dbl> & <dbl>\\\\\n",
       "\\hline\n",
       "\t 46 & 83 & 0.00 & 13 & 29.99\\\\\n",
       "\t 48 & 53 & 0.00 &  6 & 30.03\\\\\n",
       "\t 89 & 36 & 0.00 & 13 & 30.12\\\\\n",
       "\t 48 & 36 & 0.00 & 14 & 29.80\\\\\n",
       "\t 61 & 39 & T    & 11 & 30.50\\\\\n",
       "\t 79 & 41 & 0.00 &  6 & 29.92\\\\\n",
       "\t 51 & 19 & 0.00 &  0 & 30.40\\\\\n",
       "\t 65 & 24 & 0.00 & 11 & 30.35\\\\\n",
       "\t 90 & 54 & 0.06 & 11 & 30.03\\\\\n",
       "\t 94 & 73 & NA   &  5 & 29.91\\\\\n",
       "\\end{tabular}\n"
      ],
      "text/markdown": [
       "\n",
       "A tibble: 10 × 5\n",
       "\n",
       "| HOURLYRelativeHumidity &lt;dbl&gt; | HOURLYDRYBULBTEMPF &lt;dbl&gt; | HOURLYPrecip &lt;chr&gt; | HOURLYWindSpeed &lt;dbl&gt; | HOURLYStationPressure &lt;dbl&gt; |\n",
       "|---|---|---|---|---|\n",
       "| 46 | 83 | 0.00 | 13 | 29.99 |\n",
       "| 48 | 53 | 0.00 |  6 | 30.03 |\n",
       "| 89 | 36 | 0.00 | 13 | 30.12 |\n",
       "| 48 | 36 | 0.00 | 14 | 29.80 |\n",
       "| 61 | 39 | T    | 11 | 30.50 |\n",
       "| 79 | 41 | 0.00 |  6 | 29.92 |\n",
       "| 51 | 19 | 0.00 |  0 | 30.40 |\n",
       "| 65 | 24 | 0.00 | 11 | 30.35 |\n",
       "| 90 | 54 | 0.06 | 11 | 30.03 |\n",
       "| 94 | 73 | NA   |  5 | 29.91 |\n",
       "\n"
      ],
      "text/plain": [
       "   HOURLYRelativeHumidity HOURLYDRYBULBTEMPF HOURLYPrecip HOURLYWindSpeed\n",
       "1  46                     83                 0.00         13             \n",
       "2  48                     53                 0.00          6             \n",
       "3  89                     36                 0.00         13             \n",
       "4  48                     36                 0.00         14             \n",
       "5  61                     39                 T            11             \n",
       "6  79                     41                 0.00          6             \n",
       "7  51                     19                 0.00          0             \n",
       "8  65                     24                 0.00         11             \n",
       "9  90                     54                 0.06         11             \n",
       "10 94                     73                 NA            5             \n",
       "   HOURLYStationPressure\n",
       "1  29.99                \n",
       "2  30.03                \n",
       "3  30.12                \n",
       "4  29.80                \n",
       "5  30.50                \n",
       "6  29.92                \n",
       "7  30.40                \n",
       "8  30.35                \n",
       "9  30.03                \n",
       "10 29.91                "
      ]
     },
     "metadata": {},
     "output_type": "display_data"
    }
   ],
   "source": [
    "head(sub_jfk_weather, 10)"
   ]
  },
  {
   "cell_type": "markdown",
   "metadata": {},
   "source": [
    "<a id=\"cell4\"></a>\n",
    "## 4. Clean Up Columns\n",
    "\n",
    "From the dataframe preview above, we can see that the column `HOURLYPrecip` - which is the hourly measure of precipitation levels - contains both `NA` and `T` values. `T` specifies *trace amounts of precipitation* (meaning essentially no precipitation), while `NA` means *not available*, and is used to denote missing values. Additionally, some values also have \"s\" at the end of them, indicating that the precipitation was snow. \n",
    "\n",
    "Inspect the unique values present in the column `HOURLYPrecip` (with `unique(dataframe$column)`) to see these values.\n"
   ]
  },
  {
   "cell_type": "code",
   "execution_count": 11,
   "metadata": {},
   "outputs": [
    {
     "data": {
      "text/html": [
       "<style>\n",
       ".list-inline {list-style: none; margin:0; padding: 0}\n",
       ".list-inline>li {display: inline-block}\n",
       ".list-inline>li:not(:last-child)::after {content: \"\\00b7\"; padding: 0 .5ex}\n",
       "</style>\n",
       "<ol class=list-inline><li>'0.00'</li><li>'T'</li><li>'0.06'</li><li>NA</li><li>'0.03'</li><li>'0.02'</li><li>'0.08'</li><li>'0.01'</li><li>'0.07'</li><li>'0.16'</li><li>'0.09'</li><li>'0.22'</li><li>'0.02s'</li><li>'0.24'</li><li>'0.18'</li><li>'0.05'</li><li>'0.04'</li><li>'0.09s'</li><li>'0.11'</li><li>'0.14'</li><li>'0.25'</li><li>'0.10'</li><li>'0.01s'</li><li>'0.58'</li><li>'0.12'</li><li>'0.13'</li><li>'0.46'</li><li>'1.07'</li><li>'1.19'</li><li>'0.34'</li><li>'0.20'</li><li>'0.36s'</li><li>'0.42'</li><li>'0.17'</li><li>'0.27'</li><li>'0.35'</li><li>'0.31'</li><li>'0.33'</li><li>'0.23'</li><li>'0.26'</li><li>'0.28'</li><li>'0.75'</li><li>'0.19'</li><li>'0.36'</li><li>'0.03s'</li><li>'0.07s'</li><li>'0.54'</li><li>'0.59'</li><li>'0.21'</li></ol>\n"
      ],
      "text/latex": [
       "\\begin{enumerate*}\n",
       "\\item '0.00'\n",
       "\\item 'T'\n",
       "\\item '0.06'\n",
       "\\item NA\n",
       "\\item '0.03'\n",
       "\\item '0.02'\n",
       "\\item '0.08'\n",
       "\\item '0.01'\n",
       "\\item '0.07'\n",
       "\\item '0.16'\n",
       "\\item '0.09'\n",
       "\\item '0.22'\n",
       "\\item '0.02s'\n",
       "\\item '0.24'\n",
       "\\item '0.18'\n",
       "\\item '0.05'\n",
       "\\item '0.04'\n",
       "\\item '0.09s'\n",
       "\\item '0.11'\n",
       "\\item '0.14'\n",
       "\\item '0.25'\n",
       "\\item '0.10'\n",
       "\\item '0.01s'\n",
       "\\item '0.58'\n",
       "\\item '0.12'\n",
       "\\item '0.13'\n",
       "\\item '0.46'\n",
       "\\item '1.07'\n",
       "\\item '1.19'\n",
       "\\item '0.34'\n",
       "\\item '0.20'\n",
       "\\item '0.36s'\n",
       "\\item '0.42'\n",
       "\\item '0.17'\n",
       "\\item '0.27'\n",
       "\\item '0.35'\n",
       "\\item '0.31'\n",
       "\\item '0.33'\n",
       "\\item '0.23'\n",
       "\\item '0.26'\n",
       "\\item '0.28'\n",
       "\\item '0.75'\n",
       "\\item '0.19'\n",
       "\\item '0.36'\n",
       "\\item '0.03s'\n",
       "\\item '0.07s'\n",
       "\\item '0.54'\n",
       "\\item '0.59'\n",
       "\\item '0.21'\n",
       "\\end{enumerate*}\n"
      ],
      "text/markdown": [
       "1. '0.00'\n",
       "2. 'T'\n",
       "3. '0.06'\n",
       "4. NA\n",
       "5. '0.03'\n",
       "6. '0.02'\n",
       "7. '0.08'\n",
       "8. '0.01'\n",
       "9. '0.07'\n",
       "10. '0.16'\n",
       "11. '0.09'\n",
       "12. '0.22'\n",
       "13. '0.02s'\n",
       "14. '0.24'\n",
       "15. '0.18'\n",
       "16. '0.05'\n",
       "17. '0.04'\n",
       "18. '0.09s'\n",
       "19. '0.11'\n",
       "20. '0.14'\n",
       "21. '0.25'\n",
       "22. '0.10'\n",
       "23. '0.01s'\n",
       "24. '0.58'\n",
       "25. '0.12'\n",
       "26. '0.13'\n",
       "27. '0.46'\n",
       "28. '1.07'\n",
       "29. '1.19'\n",
       "30. '0.34'\n",
       "31. '0.20'\n",
       "32. '0.36s'\n",
       "33. '0.42'\n",
       "34. '0.17'\n",
       "35. '0.27'\n",
       "36. '0.35'\n",
       "37. '0.31'\n",
       "38. '0.33'\n",
       "39. '0.23'\n",
       "40. '0.26'\n",
       "41. '0.28'\n",
       "42. '0.75'\n",
       "43. '0.19'\n",
       "44. '0.36'\n",
       "45. '0.03s'\n",
       "46. '0.07s'\n",
       "47. '0.54'\n",
       "48. '0.59'\n",
       "49. '0.21'\n",
       "\n",
       "\n"
      ],
      "text/plain": [
       " [1] \"0.00\"  \"T\"     \"0.06\"  NA      \"0.03\"  \"0.02\"  \"0.08\"  \"0.01\"  \"0.07\" \n",
       "[10] \"0.16\"  \"0.09\"  \"0.22\"  \"0.02s\" \"0.24\"  \"0.18\"  \"0.05\"  \"0.04\"  \"0.09s\"\n",
       "[19] \"0.11\"  \"0.14\"  \"0.25\"  \"0.10\"  \"0.01s\" \"0.58\"  \"0.12\"  \"0.13\"  \"0.46\" \n",
       "[28] \"1.07\"  \"1.19\"  \"0.34\"  \"0.20\"  \"0.36s\" \"0.42\"  \"0.17\"  \"0.27\"  \"0.35\" \n",
       "[37] \"0.31\"  \"0.33\"  \"0.23\"  \"0.26\"  \"0.28\"  \"0.75\"  \"0.19\"  \"0.36\"  \"0.03s\"\n",
       "[46] \"0.07s\" \"0.54\"  \"0.59\"  \"0.21\" "
      ]
     },
     "metadata": {},
     "output_type": "display_data"
    }
   ],
   "source": [
    "unique(sub_jfk_weather$HOURLYPrecip)"
   ]
  },
  {
   "cell_type": "markdown",
   "metadata": {},
   "source": [
    "Having characters in values (like the \"T\" and \"s\" that you see in the unique values) will cause problems when you create a model because values for precipitation should be numerical. So you need to fix these values that have characters. \n",
    "\n",
    "Now, for the column `HOURLYPrecip`:\n",
    "1. Replace all the `T` values with \"0.0\" and \n",
    "2. Remove \"s\" from values like \"0.02s\". In R, you can use the method `str_remove(column, pattern = \"s$\")` to remove the character \"s\" from the end of values. The \"$\" tells R to match to the end of values. The `pattern` is a regex pattern. Look at [here](https://www.rdocumentation.org/packages/stringi/versions/1.5.3/topics/about_search_regex) for more information about regex and matching to strings in R.\n",
    "\n",
    "Remember that you can use `tidyverse`'s  `mutate()` to update columns.\n",
    "\n",
    "You can check your work by checking if unique values of `HOURLYPrecip` still contain any `T` or `s`. Store the modified dataframe as a new variable.\n"
   ]
  },
  {
   "cell_type": "code",
   "execution_count": 13,
   "metadata": {},
   "outputs": [
    {
     "data": {
      "text/html": [
       "<style>\n",
       ".list-inline {list-style: none; margin:0; padding: 0}\n",
       ".list-inline>li {display: inline-block}\n",
       ".list-inline>li:not(:last-child)::after {content: \"\\00b7\"; padding: 0 .5ex}\n",
       "</style>\n",
       "<ol class=list-inline><li>'0.00'</li><li>'0.0'</li><li>'0.06'</li><li>NA</li><li>'0.03'</li><li>'0.02'</li><li>'0.08'</li><li>'0.01'</li><li>'0.07'</li><li>'0.16'</li><li>'0.09'</li><li>'0.22'</li><li>'0.24'</li><li>'0.18'</li><li>'0.05'</li><li>'0.04'</li><li>'0.11'</li><li>'0.14'</li><li>'0.25'</li><li>'0.10'</li><li>'0.58'</li><li>'0.12'</li><li>'0.13'</li><li>'0.46'</li><li>'1.07'</li><li>'1.19'</li><li>'0.34'</li><li>'0.20'</li><li>'0.36'</li><li>'0.42'</li><li>'0.17'</li><li>'0.27'</li><li>'0.35'</li><li>'0.31'</li><li>'0.33'</li><li>'0.23'</li><li>'0.26'</li><li>'0.28'</li><li>'0.75'</li><li>'0.19'</li><li>'0.54'</li><li>'0.59'</li><li>'0.21'</li></ol>\n"
      ],
      "text/latex": [
       "\\begin{enumerate*}\n",
       "\\item '0.00'\n",
       "\\item '0.0'\n",
       "\\item '0.06'\n",
       "\\item NA\n",
       "\\item '0.03'\n",
       "\\item '0.02'\n",
       "\\item '0.08'\n",
       "\\item '0.01'\n",
       "\\item '0.07'\n",
       "\\item '0.16'\n",
       "\\item '0.09'\n",
       "\\item '0.22'\n",
       "\\item '0.24'\n",
       "\\item '0.18'\n",
       "\\item '0.05'\n",
       "\\item '0.04'\n",
       "\\item '0.11'\n",
       "\\item '0.14'\n",
       "\\item '0.25'\n",
       "\\item '0.10'\n",
       "\\item '0.58'\n",
       "\\item '0.12'\n",
       "\\item '0.13'\n",
       "\\item '0.46'\n",
       "\\item '1.07'\n",
       "\\item '1.19'\n",
       "\\item '0.34'\n",
       "\\item '0.20'\n",
       "\\item '0.36'\n",
       "\\item '0.42'\n",
       "\\item '0.17'\n",
       "\\item '0.27'\n",
       "\\item '0.35'\n",
       "\\item '0.31'\n",
       "\\item '0.33'\n",
       "\\item '0.23'\n",
       "\\item '0.26'\n",
       "\\item '0.28'\n",
       "\\item '0.75'\n",
       "\\item '0.19'\n",
       "\\item '0.54'\n",
       "\\item '0.59'\n",
       "\\item '0.21'\n",
       "\\end{enumerate*}\n"
      ],
      "text/markdown": [
       "1. '0.00'\n",
       "2. '0.0'\n",
       "3. '0.06'\n",
       "4. NA\n",
       "5. '0.03'\n",
       "6. '0.02'\n",
       "7. '0.08'\n",
       "8. '0.01'\n",
       "9. '0.07'\n",
       "10. '0.16'\n",
       "11. '0.09'\n",
       "12. '0.22'\n",
       "13. '0.24'\n",
       "14. '0.18'\n",
       "15. '0.05'\n",
       "16. '0.04'\n",
       "17. '0.11'\n",
       "18. '0.14'\n",
       "19. '0.25'\n",
       "20. '0.10'\n",
       "21. '0.58'\n",
       "22. '0.12'\n",
       "23. '0.13'\n",
       "24. '0.46'\n",
       "25. '1.07'\n",
       "26. '1.19'\n",
       "27. '0.34'\n",
       "28. '0.20'\n",
       "29. '0.36'\n",
       "30. '0.42'\n",
       "31. '0.17'\n",
       "32. '0.27'\n",
       "33. '0.35'\n",
       "34. '0.31'\n",
       "35. '0.33'\n",
       "36. '0.23'\n",
       "37. '0.26'\n",
       "38. '0.28'\n",
       "39. '0.75'\n",
       "40. '0.19'\n",
       "41. '0.54'\n",
       "42. '0.59'\n",
       "43. '0.21'\n",
       "\n",
       "\n"
      ],
      "text/plain": [
       " [1] \"0.00\" \"0.0\"  \"0.06\" NA     \"0.03\" \"0.02\" \"0.08\" \"0.01\" \"0.07\" \"0.16\"\n",
       "[11] \"0.09\" \"0.22\" \"0.24\" \"0.18\" \"0.05\" \"0.04\" \"0.11\" \"0.14\" \"0.25\" \"0.10\"\n",
       "[21] \"0.58\" \"0.12\" \"0.13\" \"0.46\" \"1.07\" \"1.19\" \"0.34\" \"0.20\" \"0.36\" \"0.42\"\n",
       "[31] \"0.17\" \"0.27\" \"0.35\" \"0.31\" \"0.33\" \"0.23\" \"0.26\" \"0.28\" \"0.75\" \"0.19\"\n",
       "[41] \"0.54\" \"0.59\" \"0.21\""
      ]
     },
     "metadata": {},
     "output_type": "display_data"
    }
   ],
   "source": [
    "sub_jfk_weather2 <- sub_jfk_weather %>% mutate(HOURLYPrecip=ifelse(HOURLYPrecip==\"T\", \"0.0\", HOURLYPrecip))\n",
    "sub_jfk_weather3 <- sub_jfk_weather2 %>% mutate(HOURLYPrecip=str_remove(HOURLYPrecip, pattern=\"s$\"))\n",
    "unique(sub_jfk_weather3$HOURLYPrecip)"
   ]
  },
  {
   "cell_type": "markdown",
   "metadata": {},
   "source": [
    "<a id=\"cell5\"></a>\n",
    "## 5. Convert Columns to Numerical Types\n",
    "Now that you have removed the characters in the `HOURLYPrecip` column, you can safely covert the column to a numeric type.\n",
    "\n",
    "First, check the types of the columns. You will notice that all are `dbl` (double or numeric) except for `HOURLYPrecip`, which is `chr` (character or string). Use the `glimpse` function from Tidyverse.\n"
   ]
  },
  {
   "cell_type": "code",
   "execution_count": 14,
   "metadata": {},
   "outputs": [
    {
     "name": "stdout",
     "output_type": "stream",
     "text": [
      "Rows: 5,727\n",
      "Columns: 5\n",
      "$ HOURLYRelativeHumidity <dbl> 46, 48, 89, 48, 61, 79, 51, 65, 90, 94, 79, 37…\n",
      "$ HOURLYDRYBULBTEMPF     <dbl> 83, 53, 36, 36, 39, 41, 19, 24, 54, 73, 83, 44…\n",
      "$ HOURLYPrecip           <chr> \"0.00\", \"0.00\", \"0.00\", \"0.00\", \"0.0\", \"0.00\",…\n",
      "$ HOURLYWindSpeed        <dbl> 13, 6, 13, 14, 11, 6, 0, 11, 11, 5, 21, 7, 17,…\n",
      "$ HOURLYStationPressure  <dbl> 29.99, 30.03, 30.12, 29.80, 30.50, 29.92, 30.4…\n"
     ]
    }
   ],
   "source": [
    "glimpse(sub_jfk_weather3)"
   ]
  },
  {
   "cell_type": "markdown",
   "metadata": {},
   "source": [
    "Convert `HOURLYPrecip` to the `numeric` type and store the cleaned dataframe as a new variable.\n"
   ]
  },
  {
   "cell_type": "code",
   "execution_count": 16,
   "metadata": {},
   "outputs": [],
   "source": [
    "sub_jfk_weather3$HOURLYPrecip <- as.numeric(sub_jfk_weather3$HOURLYPrecip)"
   ]
  },
  {
   "cell_type": "markdown",
   "metadata": {},
   "source": [
    "We can now see that all fields have numerical data type.\n"
   ]
  },
  {
   "cell_type": "code",
   "execution_count": 17,
   "metadata": {},
   "outputs": [
    {
     "name": "stdout",
     "output_type": "stream",
     "text": [
      "Rows: 5,727\n",
      "Columns: 5\n",
      "$ HOURLYRelativeHumidity <dbl> 46, 48, 89, 48, 61, 79, 51, 65, 90, 94, 79, 37…\n",
      "$ HOURLYDRYBULBTEMPF     <dbl> 83, 53, 36, 36, 39, 41, 19, 24, 54, 73, 83, 44…\n",
      "$ HOURLYPrecip           <dbl> 0.00, 0.00, 0.00, 0.00, 0.00, 0.00, 0.00, 0.00…\n",
      "$ HOURLYWindSpeed        <dbl> 13, 6, 13, 14, 11, 6, 0, 11, 11, 5, 21, 7, 17,…\n",
      "$ HOURLYStationPressure  <dbl> 29.99, 30.03, 30.12, 29.80, 30.50, 29.92, 30.4…\n"
     ]
    }
   ],
   "source": [
    "glimpse(sub_jfk_weather3)"
   ]
  },
  {
   "cell_type": "markdown",
   "metadata": {},
   "source": [
    "<a id=\"cell6\"></a>\n",
    "## 6. Rename Columns\n",
    "Let's rename the following columns as:\n",
    "- 'HOURLYRelativeHumidity' to 'relative_humidity'\n",
    "- 'HOURLYDRYBULBTEMPF' to 'dry_bulb_temp_f'\n",
    "- 'HOURLYPrecip' to 'precip'\n",
    "- 'HOURLYWindSpeed' to 'wind_speed'\n",
    "- 'HOURLYStationPressure' to 'station_pressure'\n",
    "\n",
    "You can use `dplyr::rename()`. Then, store the final dataframe as a new variable.\n"
   ]
  },
  {
   "cell_type": "code",
   "execution_count": 18,
   "metadata": {},
   "outputs": [
    {
     "data": {
      "text/html": [
       "<table>\n",
       "<caption>A tibble: 6 × 5</caption>\n",
       "<thead>\n",
       "\t<tr><th scope=col>relative_humidity</th><th scope=col>dry_bulb_temp_f</th><th scope=col>precip</th><th scope=col>wind_speed</th><th scope=col>station_pressure</th></tr>\n",
       "\t<tr><th scope=col>&lt;dbl&gt;</th><th scope=col>&lt;dbl&gt;</th><th scope=col>&lt;dbl&gt;</th><th scope=col>&lt;dbl&gt;</th><th scope=col>&lt;dbl&gt;</th></tr>\n",
       "</thead>\n",
       "<tbody>\n",
       "\t<tr><td>46</td><td>83</td><td>0</td><td>13</td><td>29.99</td></tr>\n",
       "\t<tr><td>48</td><td>53</td><td>0</td><td> 6</td><td>30.03</td></tr>\n",
       "\t<tr><td>89</td><td>36</td><td>0</td><td>13</td><td>30.12</td></tr>\n",
       "\t<tr><td>48</td><td>36</td><td>0</td><td>14</td><td>29.80</td></tr>\n",
       "\t<tr><td>61</td><td>39</td><td>0</td><td>11</td><td>30.50</td></tr>\n",
       "\t<tr><td>79</td><td>41</td><td>0</td><td> 6</td><td>29.92</td></tr>\n",
       "</tbody>\n",
       "</table>\n"
      ],
      "text/latex": [
       "A tibble: 6 × 5\n",
       "\\begin{tabular}{lllll}\n",
       " relative\\_humidity & dry\\_bulb\\_temp\\_f & precip & wind\\_speed & station\\_pressure\\\\\n",
       " <dbl> & <dbl> & <dbl> & <dbl> & <dbl>\\\\\n",
       "\\hline\n",
       "\t 46 & 83 & 0 & 13 & 29.99\\\\\n",
       "\t 48 & 53 & 0 &  6 & 30.03\\\\\n",
       "\t 89 & 36 & 0 & 13 & 30.12\\\\\n",
       "\t 48 & 36 & 0 & 14 & 29.80\\\\\n",
       "\t 61 & 39 & 0 & 11 & 30.50\\\\\n",
       "\t 79 & 41 & 0 &  6 & 29.92\\\\\n",
       "\\end{tabular}\n"
      ],
      "text/markdown": [
       "\n",
       "A tibble: 6 × 5\n",
       "\n",
       "| relative_humidity &lt;dbl&gt; | dry_bulb_temp_f &lt;dbl&gt; | precip &lt;dbl&gt; | wind_speed &lt;dbl&gt; | station_pressure &lt;dbl&gt; |\n",
       "|---|---|---|---|---|\n",
       "| 46 | 83 | 0 | 13 | 29.99 |\n",
       "| 48 | 53 | 0 |  6 | 30.03 |\n",
       "| 89 | 36 | 0 | 13 | 30.12 |\n",
       "| 48 | 36 | 0 | 14 | 29.80 |\n",
       "| 61 | 39 | 0 | 11 | 30.50 |\n",
       "| 79 | 41 | 0 |  6 | 29.92 |\n",
       "\n"
      ],
      "text/plain": [
       "  relative_humidity dry_bulb_temp_f precip wind_speed station_pressure\n",
       "1 46                83              0      13         29.99           \n",
       "2 48                53              0       6         30.03           \n",
       "3 89                36              0      13         30.12           \n",
       "4 48                36              0      14         29.80           \n",
       "5 61                39              0      11         30.50           \n",
       "6 79                41              0       6         29.92           "
      ]
     },
     "metadata": {},
     "output_type": "display_data"
    }
   ],
   "source": [
    "sub_jfk_weather4 <- sub_jfk_weather3 %>% replace_na(list(HOURLYRelativeHumidity=0, HOURLYDRYBULBTEMPF=0, HOURLYPrecip=0, HOURLYWindSpeed=0, HOURLYStationPressure=0)) %>% rename(\"relative_humidity\"=\"HOURLYRelativeHumidity\", \"dry_bulb_temp_f\"=\"HOURLYDRYBULBTEMPF\", \"precip\"=\"HOURLYPrecip\", \"wind_speed\"=\"HOURLYWindSpeed\", \"station_pressure\"=\"HOURLYStationPressure\")\n",
    "\n",
    "head(sub_jfk_weather4)"
   ]
  },
  {
   "cell_type": "markdown",
   "metadata": {},
   "source": [
    "<a id=\"cell7\"></a>\n",
    "## 7. Exploratory Data Analysis\n",
    "Now that you have finished preprocessing the dataset, you can can start exploring the columns more.\n",
    "\n",
    "First, split the data into a training and testing set. Splitting a dataset is done randomly, so to have reproducible results set the seed = 1234. Also, use 80% of the data for training.\n"
   ]
  },
  {
   "cell_type": "code",
   "execution_count": 19,
   "metadata": {},
   "outputs": [],
   "source": [
    "set.seed(1234)\n",
    "\n",
    "weather_split <- initial_split(sub_jfk_weather4, prop = 0.8)\n",
    "train_data <- training(weather_split)\n",
    "test_data <- testing(weather_split)"
   ]
  },
  {
   "cell_type": "markdown",
   "metadata": {},
   "source": [
    "Next, looking at just the **training set**, plot histograms or box plots of the variables (`relative_humidity`, `dry_bulb_temp_f`, `precip`, `wind_speed`,  `station_pressure`) for an intial look of their distributions using `tidyverse`'s `ggplot`. Leave the testing set as is because it is good practice to not see the testing set until evaluating the final model.\n"
   ]
  },
  {
   "cell_type": "code",
   "execution_count": 21,
   "metadata": {},
   "outputs": [
    {
     "data": {},
     "metadata": {},
     "output_type": "display_data"
    },
    {
     "data": {},
     "metadata": {},
     "output_type": "display_data"
    },
    {
     "data": {
      "image/png": "[encoded data removed]",
      "text/plain": [
       "plot without title"
      ]
     },
     "metadata": {},
     "output_type": "display_data",
     "source": "R display func"
    },
    {
     "data": {},
     "metadata": {},
     "output_type": "display_data"
    },
    {
     "data": {
      "image/png": "[encoded data removed]",
      "text/plain": [
       "plot without title"
      ]
     },
     "metadata": {},
     "output_type": "display_data",
     "source": "R display func"
    },
    {
     "data": {},
     "metadata": {},
     "output_type": "display_data"
    },
    {
     "data": {
      "image/png": "[encoded data removed]",
      "text/plain": [
       "plot without title"
      ]
     },
     "metadata": {},
     "output_type": "display_data",
     "source": "R display func"
    },
    {
     "data": {},
     "metadata": {},
     "output_type": "display_data"
    },
    {
     "data": {
      "image/png": "[encoded data removed]",
      "text/plain": [
       "plot without title"
      ]
     },
     "metadata": {},
     "output_type": "display_data",
     "source": "R display func"
    },
    {
     "data": {
      "image/png": "[encoded data removed]",
      "text/plain": [
       "plot without title"
      ]
     },
     "metadata": {},
     "output_type": "display_data",
     "source": "R display func"
    }
   ],
   "source": [
    "ggplot(train_data, aes(y=relative_humidity))+geom_boxplot()\n",
    "ggplot(train_data, aes(y=dry_bulb_temp_f))+geom_boxplot()\n",
    "ggplot(train_data, aes(y=precip))+geom_boxplot()\n",
    "ggplot(train_data, aes(y=wind_speed))+geom_boxplot()\n",
    "ggplot(train_data, aes(y=station_pressure))+geom_boxplot()"
   ]
  },
  {
   "cell_type": "markdown",
   "metadata": {},
   "source": [
    "<a id=\"cell8\"></a>\n",
    "## 8. Linear Regression \n",
    "After exploring the dataset more, you are now ready to start creating models to predict the precipitation (`precip`).\n",
    "\n",
    "Create simple linear regression models where `precip` is the response variable and each of `relative_humidity`, `dry_bulb_temp_f`,`wind_speed` or `station_pressure` will be a predictor variable, e.g. `precip ~ relative_humidity`, `precip ~ dry_bulb_temp_f`, etc. for a total of four simple models. \n",
    "Additionally, visualize each simple model with a scatter plot.\n"
   ]
  },
  {
   "cell_type": "code",
   "execution_count": 26,
   "metadata": {},
   "outputs": [
    {
     "data": {
      "text/plain": [
       "parsnip model object\n",
       "\n",
       "Fit time:  2ms \n",
       "\n",
       "Call:\n",
       "stats::lm(formula = formula, data = data)\n",
       "\n",
       "Coefficients:\n",
       "      (Intercept)  relative_humidity  \n",
       "       -0.0110874          0.0002424  \n"
      ]
     },
     "metadata": {},
     "output_type": "display_data"
    },
    {
     "data": {},
     "metadata": {},
     "output_type": "display_data"
    },
    {
     "data": {
      "image/png": "[encoded data removed]",
      "text/plain": [
       "plot without title"
      ]
     },
     "metadata": {},
     "output_type": "display_data",
     "source": "R display func"
    }
   ],
   "source": [
    "lm_spec <- linear_reg() %>% set_engine(engine = \"lm\")\n",
    "\n",
    "train_fit1 <- lm_spec %>% fit(precip ~ relative_humidity, data = train_data)\n",
    "train_fit1\n",
    "train_plot1 <-ggplot(train_data, aes(x=relative_humidity, y=precip))+geom_point()\n",
    "train_plot1"
   ]
  },
  {
   "cell_type": "code",
   "execution_count": 27,
   "metadata": {},
   "outputs": [
    {
     "data": {
      "text/plain": [
       "parsnip model object\n",
       "\n",
       "Fit time:  3ms \n",
       "\n",
       "Call:\n",
       "stats::lm(formula = formula, data = data)\n",
       "\n",
       "Coefficients:\n",
       "    (Intercept)  dry_bulb_temp_f  \n",
       "      4.104e-03        1.094e-05  \n"
      ]
     },
     "metadata": {},
     "output_type": "display_data"
    },
    {
     "data": {},
     "metadata": {},
     "output_type": "display_data"
    },
    {
     "data": {
      "image/png": "[encoded data removed]",
      "text/plain": [
       "plot without title"
      ]
     },
     "metadata": {},
     "output_type": "display_data",
     "source": "R display func"
    }
   ],
   "source": [
    "train_fit2 <- lm_spec %>% fit(precip ~ dry_bulb_temp_f, data = train_data)\n",
    "train_fit2\n",
    "train_plot2 <-ggplot(train_data, aes(x=dry_bulb_temp_f, y=precip))+geom_point()\n",
    "train_plot2"
   ]
  },
  {
   "cell_type": "code",
   "execution_count": 28,
   "metadata": {},
   "outputs": [
    {
     "data": {
      "text/plain": [
       "parsnip model object\n",
       "\n",
       "Fit time:  2ms \n",
       "\n",
       "Call:\n",
       "stats::lm(formula = formula, data = data)\n",
       "\n",
       "Coefficients:\n",
       "(Intercept)   wind_speed  \n",
       "  0.0005514    0.0003795  \n"
      ]
     },
     "metadata": {},
     "output_type": "display_data"
    },
    {
     "data": {},
     "metadata": {},
     "output_type": "display_data"
    },
    {
     "data": {
      "image/png": "[encoded data removed]",
      "text/plain": [
       "plot without title"
      ]
     },
     "metadata": {},
     "output_type": "display_data",
     "source": "R display func"
    }
   ],
   "source": [
    "train_fit3 <- lm_spec %>% fit(precip ~ wind_speed, data = train_data)\n",
    "train_fit3\n",
    "train_plot3 <-ggplot(train_data, aes(x=wind_speed, y=precip))+geom_point()\n",
    "train_plot3"
   ]
  },
  {
   "cell_type": "code",
   "execution_count": 29,
   "metadata": {},
   "outputs": [
    {
     "data": {
      "text/plain": [
       "parsnip model object\n",
       "\n",
       "Fit time:  4ms \n",
       "\n",
       "Call:\n",
       "stats::lm(formula = formula, data = data)\n",
       "\n",
       "Coefficients:\n",
       "     (Intercept)  station_pressure  \n",
       "       0.0016592         0.0001043  \n"
      ]
     },
     "metadata": {},
     "output_type": "display_data"
    },
    {
     "data": {},
     "metadata": {},
     "output_type": "display_data"
    },
    {
     "data": {
      "image/png": "[encoded data removed]",
      "text/plain": [
       "plot without title"
      ]
     },
     "metadata": {},
     "output_type": "display_data",
     "source": "R display func"
    }
   ],
   "source": [
    "train_fit4 <- lm_spec %>% fit(precip ~ station_pressure, data = train_data)\n",
    "train_fit4\n",
    "train_plot4 <-ggplot(train_data, aes(x=station_pressure, y=precip))+geom_point()\n",
    "train_plot4"
   ]
  },
  {
   "cell_type": "markdown",
   "metadata": {},
   "source": [
    "<a id=\"cell9\"></a>\n",
    "## 9. Improve the Model\n",
    "Now, try improving the simple models you created in the previous section. \n",
    "\n",
    "Create at least two more models, each model should use at least one of the different techniques:\n",
    "1. Add more features/predictors\n",
    "2. Add regularization (L1, L2 or a mix)\n",
    "3. Add a polynomial component\n",
    "\n",
    "Also, for each of the models you create, check the model performance using the **training set** and a metric like MSE, RMSE, or R-squared.\n",
    "\n",
    "Consider using `tidymodels` if you choose to add regularization and tune lambda.\n"
   ]
  },
  {
   "cell_type": "markdown",
   "metadata": {},
   "source": [
    "<a id=\"cell9\"></a>\n",
    "## 9.1 "
   ]
  },
  {
   "cell_type": "code",
   "execution_count": 30,
   "metadata": {
    "tags": []
   },
   "outputs": [
    {
     "data": {
      "text/plain": [
       "parsnip model object\n",
       "\n",
       "Fit time:  2ms \n",
       "\n",
       "Call:\n",
       "stats::lm(formula = formula, data = data)\n",
       "\n",
       "Coefficients:\n",
       "      (Intercept)  relative_humidity    dry_bulb_temp_f         wind_speed  \n",
       "       -1.188e-03          3.333e-04         -1.866e-05          5.978e-04  \n",
       " station_pressure  \n",
       "       -7.329e-04  \n"
      ]
     },
     "metadata": {},
     "output_type": "display_data"
    }
   ],
   "source": [
    "train_fit5 <- lm_spec %>% fit(precip ~ ., data = train_data)\n",
    "train_fit5"
   ]
  },
  {
   "cell_type": "code",
   "execution_count": 38,
   "metadata": {
    "tags": []
   },
   "outputs": [
    {
     "data": {
      "text/html": [
       "<table>\n",
       "<caption>A tibble: 4582 × 2</caption>\n",
       "<thead>\n",
       "\t<tr><th scope=col>.pred</th><th scope=col>truth</th></tr>\n",
       "\t<tr><th scope=col>&lt;dbl&gt;</th><th scope=col>&lt;dbl&gt;</th></tr>\n",
       "</thead>\n",
       "<tbody>\n",
       "\t<tr><td>-0.0016125444</td><td>0.00</td></tr>\n",
       "\t<tr><td> 0.0135017603</td><td>0.00</td></tr>\n",
       "\t<tr><td> 0.0060374943</td><td>0.00</td></tr>\n",
       "\t<tr><td> 0.0043620882</td><td>0.00</td></tr>\n",
       "\t<tr><td> 0.0123695702</td><td>0.06</td></tr>\n",
       "\t<tr><td> 0.0143448502</td><td>0.00</td></tr>\n",
       "\t<tr><td> 0.0100398292</td><td>0.00</td></tr>\n",
       "\t<tr><td>-0.0042993700</td><td>0.00</td></tr>\n",
       "\t<tr><td> 0.0050930084</td><td>0.00</td></tr>\n",
       "\t<tr><td> 0.0125736900</td><td>0.03</td></tr>\n",
       "\t<tr><td> 0.0178824639</td><td>0.03</td></tr>\n",
       "\t<tr><td> 0.0027964676</td><td>0.00</td></tr>\n",
       "\t<tr><td> 0.0073789291</td><td>0.00</td></tr>\n",
       "\t<tr><td> 0.0028793704</td><td>0.00</td></tr>\n",
       "\t<tr><td> 0.0163341784</td><td>0.02</td></tr>\n",
       "\t<tr><td> 0.0051769121</td><td>0.00</td></tr>\n",
       "\t<tr><td>-0.0041712317</td><td>0.00</td></tr>\n",
       "\t<tr><td> 0.0191654914</td><td>0.00</td></tr>\n",
       "\t<tr><td> 0.0036817954</td><td>0.00</td></tr>\n",
       "\t<tr><td>-0.0004465177</td><td>0.00</td></tr>\n",
       "\t<tr><td> 0.0031155421</td><td>0.00</td></tr>\n",
       "\t<tr><td> 0.0103332222</td><td>0.00</td></tr>\n",
       "\t<tr><td> 0.0027189307</td><td>0.00</td></tr>\n",
       "\t<tr><td>-0.0044795657</td><td>0.00</td></tr>\n",
       "\t<tr><td> 0.0087013375</td><td>0.00</td></tr>\n",
       "\t<tr><td> 0.0021841578</td><td>0.00</td></tr>\n",
       "\t<tr><td> 0.0079483109</td><td>0.00</td></tr>\n",
       "\t<tr><td> 0.0322149551</td><td>0.08</td></tr>\n",
       "\t<tr><td> 0.0165879890</td><td>0.00</td></tr>\n",
       "\t<tr><td> 0.0110100715</td><td>0.00</td></tr>\n",
       "\t<tr><td>⋮</td><td>⋮</td></tr>\n",
       "\t<tr><td>-0.0053885067</td><td>0.00</td></tr>\n",
       "\t<tr><td>-0.0042914477</td><td>0.00</td></tr>\n",
       "\t<tr><td>-0.0053883862</td><td>0.00</td></tr>\n",
       "\t<tr><td>-0.0094385085</td><td>0.00</td></tr>\n",
       "\t<tr><td> 0.0029080494</td><td>0.00</td></tr>\n",
       "\t<tr><td> 0.0121333387</td><td>0.00</td></tr>\n",
       "\t<tr><td> 0.0001291533</td><td>0.00</td></tr>\n",
       "\t<tr><td> 0.0074787041</td><td>0.00</td></tr>\n",
       "\t<tr><td> 0.0086479303</td><td>0.00</td></tr>\n",
       "\t<tr><td> 0.0122466339</td><td>0.00</td></tr>\n",
       "\t<tr><td>-0.0032398101</td><td>0.00</td></tr>\n",
       "\t<tr><td>-0.0025513442</td><td>0.00</td></tr>\n",
       "\t<tr><td> 0.0024967683</td><td>0.00</td></tr>\n",
       "\t<tr><td> 0.0008193762</td><td>0.00</td></tr>\n",
       "\t<tr><td> 0.0108144724</td><td>0.02</td></tr>\n",
       "\t<tr><td>-0.0020872712</td><td>0.00</td></tr>\n",
       "\t<tr><td> 0.0101671725</td><td>0.00</td></tr>\n",
       "\t<tr><td> 0.0073133021</td><td>0.00</td></tr>\n",
       "\t<tr><td> 0.0035128612</td><td>0.00</td></tr>\n",
       "\t<tr><td>-0.0050564391</td><td>0.00</td></tr>\n",
       "\t<tr><td>-0.0012405955</td><td>0.00</td></tr>\n",
       "\t<tr><td>-0.0013958128</td><td>0.00</td></tr>\n",
       "\t<tr><td> 0.0147904133</td><td>0.03</td></tr>\n",
       "\t<tr><td> 0.0069477461</td><td>0.00</td></tr>\n",
       "\t<tr><td> 0.0188664829</td><td>0.01</td></tr>\n",
       "\t<tr><td> 0.0020400510</td><td>0.00</td></tr>\n",
       "\t<tr><td> 0.0018110722</td><td>0.00</td></tr>\n",
       "\t<tr><td>-0.0011877857</td><td>0.00</td></tr>\n",
       "\t<tr><td>-0.0065616500</td><td>0.00</td></tr>\n",
       "\t<tr><td> 0.0056385375</td><td>0.00</td></tr>\n",
       "</tbody>\n",
       "</table>\n"
      ],
      "text/latex": [
       "A tibble: 4582 × 2\n",
       "\\begin{tabular}{ll}\n",
       " .pred & truth\\\\\n",
       " <dbl> & <dbl>\\\\\n",
       "\\hline\n",
       "\t -0.0016125444 & 0.00\\\\\n",
       "\t  0.0135017603 & 0.00\\\\\n",
       "\t  0.0060374943 & 0.00\\\\\n",
       "\t  0.0043620882 & 0.00\\\\\n",
       "\t  0.0123695702 & 0.06\\\\\n",
       "\t  0.0143448502 & 0.00\\\\\n",
       "\t  0.0100398292 & 0.00\\\\\n",
       "\t -0.0042993700 & 0.00\\\\\n",
       "\t  0.0050930084 & 0.00\\\\\n",
       "\t  0.0125736900 & 0.03\\\\\n",
       "\t  0.0178824639 & 0.03\\\\\n",
       "\t  0.0027964676 & 0.00\\\\\n",
       "\t  0.0073789291 & 0.00\\\\\n",
       "\t  0.0028793704 & 0.00\\\\\n",
       "\t  0.0163341784 & 0.02\\\\\n",
       "\t  0.0051769121 & 0.00\\\\\n",
       "\t -0.0041712317 & 0.00\\\\\n",
       "\t  0.0191654914 & 0.00\\\\\n",
       "\t  0.0036817954 & 0.00\\\\\n",
       "\t -0.0004465177 & 0.00\\\\\n",
       "\t  0.0031155421 & 0.00\\\\\n",
       "\t  0.0103332222 & 0.00\\\\\n",
       "\t  0.0027189307 & 0.00\\\\\n",
       "\t -0.0044795657 & 0.00\\\\\n",
       "\t  0.0087013375 & 0.00\\\\\n",
       "\t  0.0021841578 & 0.00\\\\\n",
       "\t  0.0079483109 & 0.00\\\\\n",
       "\t  0.0322149551 & 0.08\\\\\n",
       "\t  0.0165879890 & 0.00\\\\\n",
       "\t  0.0110100715 & 0.00\\\\\n",
       "\t ⋮ & ⋮\\\\\n",
       "\t -0.0053885067 & 0.00\\\\\n",
       "\t -0.0042914477 & 0.00\\\\\n",
       "\t -0.0053883862 & 0.00\\\\\n",
       "\t -0.0094385085 & 0.00\\\\\n",
       "\t  0.0029080494 & 0.00\\\\\n",
       "\t  0.0121333387 & 0.00\\\\\n",
       "\t  0.0001291533 & 0.00\\\\\n",
       "\t  0.0074787041 & 0.00\\\\\n",
       "\t  0.0086479303 & 0.00\\\\\n",
       "\t  0.0122466339 & 0.00\\\\\n",
       "\t -0.0032398101 & 0.00\\\\\n",
       "\t -0.0025513442 & 0.00\\\\\n",
       "\t  0.0024967683 & 0.00\\\\\n",
       "\t  0.0008193762 & 0.00\\\\\n",
       "\t  0.0108144724 & 0.02\\\\\n",
       "\t -0.0020872712 & 0.00\\\\\n",
       "\t  0.0101671725 & 0.00\\\\\n",
       "\t  0.0073133021 & 0.00\\\\\n",
       "\t  0.0035128612 & 0.00\\\\\n",
       "\t -0.0050564391 & 0.00\\\\\n",
       "\t -0.0012405955 & 0.00\\\\\n",
       "\t -0.0013958128 & 0.00\\\\\n",
       "\t  0.0147904133 & 0.03\\\\\n",
       "\t  0.0069477461 & 0.00\\\\\n",
       "\t  0.0188664829 & 0.01\\\\\n",
       "\t  0.0020400510 & 0.00\\\\\n",
       "\t  0.0018110722 & 0.00\\\\\n",
       "\t -0.0011877857 & 0.00\\\\\n",
       "\t -0.0065616500 & 0.00\\\\\n",
       "\t  0.0056385375 & 0.00\\\\\n",
       "\\end{tabular}\n"
      ],
      "text/markdown": [
       "\n",
       "A tibble: 4582 × 2\n",
       "\n",
       "| .pred &lt;dbl&gt; | truth &lt;dbl&gt; |\n",
       "|---|---|\n",
       "| -0.0016125444 | 0.00 |\n",
       "|  0.0135017603 | 0.00 |\n",
       "|  0.0060374943 | 0.00 |\n",
       "|  0.0043620882 | 0.00 |\n",
       "|  0.0123695702 | 0.06 |\n",
       "|  0.0143448502 | 0.00 |\n",
       "|  0.0100398292 | 0.00 |\n",
       "| -0.0042993700 | 0.00 |\n",
       "|  0.0050930084 | 0.00 |\n",
       "|  0.0125736900 | 0.03 |\n",
       "|  0.0178824639 | 0.03 |\n",
       "|  0.0027964676 | 0.00 |\n",
       "|  0.0073789291 | 0.00 |\n",
       "|  0.0028793704 | 0.00 |\n",
       "|  0.0163341784 | 0.02 |\n",
       "|  0.0051769121 | 0.00 |\n",
       "| -0.0041712317 | 0.00 |\n",
       "|  0.0191654914 | 0.00 |\n",
       "|  0.0036817954 | 0.00 |\n",
       "| -0.0004465177 | 0.00 |\n",
       "|  0.0031155421 | 0.00 |\n",
       "|  0.0103332222 | 0.00 |\n",
       "|  0.0027189307 | 0.00 |\n",
       "| -0.0044795657 | 0.00 |\n",
       "|  0.0087013375 | 0.00 |\n",
       "|  0.0021841578 | 0.00 |\n",
       "|  0.0079483109 | 0.00 |\n",
       "|  0.0322149551 | 0.08 |\n",
       "|  0.0165879890 | 0.00 |\n",
       "|  0.0110100715 | 0.00 |\n",
       "| ⋮ | ⋮ |\n",
       "| -0.0053885067 | 0.00 |\n",
       "| -0.0042914477 | 0.00 |\n",
       "| -0.0053883862 | 0.00 |\n",
       "| -0.0094385085 | 0.00 |\n",
       "|  0.0029080494 | 0.00 |\n",
       "|  0.0121333387 | 0.00 |\n",
       "|  0.0001291533 | 0.00 |\n",
       "|  0.0074787041 | 0.00 |\n",
       "|  0.0086479303 | 0.00 |\n",
       "|  0.0122466339 | 0.00 |\n",
       "| -0.0032398101 | 0.00 |\n",
       "| -0.0025513442 | 0.00 |\n",
       "|  0.0024967683 | 0.00 |\n",
       "|  0.0008193762 | 0.00 |\n",
       "|  0.0108144724 | 0.02 |\n",
       "| -0.0020872712 | 0.00 |\n",
       "|  0.0101671725 | 0.00 |\n",
       "|  0.0073133021 | 0.00 |\n",
       "|  0.0035128612 | 0.00 |\n",
       "| -0.0050564391 | 0.00 |\n",
       "| -0.0012405955 | 0.00 |\n",
       "| -0.0013958128 | 0.00 |\n",
       "|  0.0147904133 | 0.03 |\n",
       "|  0.0069477461 | 0.00 |\n",
       "|  0.0188664829 | 0.01 |\n",
       "|  0.0020400510 | 0.00 |\n",
       "|  0.0018110722 | 0.00 |\n",
       "| -0.0011877857 | 0.00 |\n",
       "| -0.0065616500 | 0.00 |\n",
       "|  0.0056385375 | 0.00 |\n",
       "\n"
      ],
      "text/plain": [
       "     .pred         truth\n",
       "1    -0.0016125444 0.00 \n",
       "2     0.0135017603 0.00 \n",
       "3     0.0060374943 0.00 \n",
       "4     0.0043620882 0.00 \n",
       "5     0.0123695702 0.06 \n",
       "6     0.0143448502 0.00 \n",
       "7     0.0100398292 0.00 \n",
       "8    -0.0042993700 0.00 \n",
       "9     0.0050930084 0.00 \n",
       "10    0.0125736900 0.03 \n",
       "11    0.0178824639 0.03 \n",
       "12    0.0027964676 0.00 \n",
       "13    0.0073789291 0.00 \n",
       "14    0.0028793704 0.00 \n",
       "15    0.0163341784 0.02 \n",
       "16    0.0051769121 0.00 \n",
       "17   -0.0041712317 0.00 \n",
       "18    0.0191654914 0.00 \n",
       "19    0.0036817954 0.00 \n",
       "20   -0.0004465177 0.00 \n",
       "21    0.0031155421 0.00 \n",
       "22    0.0103332222 0.00 \n",
       "23    0.0027189307 0.00 \n",
       "24   -0.0044795657 0.00 \n",
       "25    0.0087013375 0.00 \n",
       "26    0.0021841578 0.00 \n",
       "27    0.0079483109 0.00 \n",
       "28    0.0322149551 0.08 \n",
       "29    0.0165879890 0.00 \n",
       "30    0.0110100715 0.00 \n",
       "⋮    ⋮             ⋮    \n",
       "4553 -0.0053885067 0.00 \n",
       "4554 -0.0042914477 0.00 \n",
       "4555 -0.0053883862 0.00 \n",
       "4556 -0.0094385085 0.00 \n",
       "4557  0.0029080494 0.00 \n",
       "4558  0.0121333387 0.00 \n",
       "4559  0.0001291533 0.00 \n",
       "4560  0.0074787041 0.00 \n",
       "4561  0.0086479303 0.00 \n",
       "4562  0.0122466339 0.00 \n",
       "4563 -0.0032398101 0.00 \n",
       "4564 -0.0025513442 0.00 \n",
       "4565  0.0024967683 0.00 \n",
       "4566  0.0008193762 0.00 \n",
       "4567  0.0108144724 0.02 \n",
       "4568 -0.0020872712 0.00 \n",
       "4569  0.0101671725 0.00 \n",
       "4570  0.0073133021 0.00 \n",
       "4571  0.0035128612 0.00 \n",
       "4572 -0.0050564391 0.00 \n",
       "4573 -0.0012405955 0.00 \n",
       "4574 -0.0013958128 0.00 \n",
       "4575  0.0147904133 0.03 \n",
       "4576  0.0069477461 0.00 \n",
       "4577  0.0188664829 0.01 \n",
       "4578  0.0020400510 0.00 \n",
       "4579  0.0018110722 0.00 \n",
       "4580 -0.0011877857 0.00 \n",
       "4581 -0.0065616500 0.00 \n",
       "4582  0.0056385375 0.00 "
      ]
     },
     "metadata": {},
     "output_type": "display_data"
    }
   ],
   "source": [
    "train_results5 <- train_fit5 %>% predict(new_data = train_data) %>% mutate(truth=train_data$precip)\n",
    "\n",
    "train_results5"
   ]
  },
  {
   "cell_type": "markdown",
   "metadata": {},
   "source": [
    "<a id=\"cell9\"></a>\n",
    "## 9.2\n"
   ]
  },
  {
   "cell_type": "code",
   "execution_count": 39,
   "metadata": {
    "tags": []
   },
   "outputs": [
    {
     "data": {
      "text/html": [
       "<table>\n",
       "<caption>A tibble: 500 × 5</caption>\n",
       "<thead>\n",
       "\t<tr><th scope=col>term</th><th scope=col>step</th><th scope=col>estimate</th><th scope=col>lambda</th><th scope=col>dev.ratio</th></tr>\n",
       "\t<tr><th scope=col>&lt;chr&gt;</th><th scope=col>&lt;dbl&gt;</th><th scope=col>&lt;dbl&gt;</th><th scope=col>&lt;dbl&gt;</th><th scope=col>&lt;dbl&gt;</th></tr>\n",
       "</thead>\n",
       "<tbody>\n",
       "\t<tr><td>(Intercept)      </td><td>1</td><td>4.696639e-03</td><td>5.478611</td><td>5.662306e-38</td></tr>\n",
       "\t<tr><td>relative_humidity</td><td>1</td><td>2.448332e-40</td><td>5.478611</td><td>5.662306e-38</td></tr>\n",
       "\t<tr><td>dry_bulb_temp_f  </td><td>1</td><td>1.104580e-41</td><td>5.478611</td><td>5.662306e-38</td></tr>\n",
       "\t<tr><td>wind_speed       </td><td>1</td><td>3.832928e-40</td><td>5.478611</td><td>5.662306e-38</td></tr>\n",
       "\t<tr><td>station_pressure </td><td>1</td><td>1.053686e-40</td><td>5.478611</td><td>5.662306e-38</td></tr>\n",
       "\t<tr><td>(Intercept)      </td><td>2</td><td>4.529025e-03</td><td>4.991907</td><td>4.000335e-04</td></tr>\n",
       "\t<tr><td>relative_humidity</td><td>2</td><td>1.736727e-06</td><td>4.991907</td><td>4.000335e-04</td></tr>\n",
       "\t<tr><td>dry_bulb_temp_f  </td><td>2</td><td>7.332596e-08</td><td>4.991907</td><td>4.000335e-04</td></tr>\n",
       "\t<tr><td>wind_speed       </td><td>2</td><td>2.721285e-06</td><td>4.991907</td><td>4.000335e-04</td></tr>\n",
       "\t<tr><td>station_pressure </td><td>2</td><td>7.150370e-07</td><td>4.991907</td><td>4.000335e-04</td></tr>\n",
       "\t<tr><td>(Intercept)      </td><td>3</td><td>4.512940e-03</td><td>4.548439</td><td>4.385527e-04</td></tr>\n",
       "\t<tr><td>relative_humidity</td><td>3</td><td>1.904699e-06</td><td>4.548439</td><td>4.385527e-04</td></tr>\n",
       "\t<tr><td>dry_bulb_temp_f  </td><td>3</td><td>7.988763e-08</td><td>4.548439</td><td>4.385527e-04</td></tr>\n",
       "\t<tr><td>wind_speed       </td><td>3</td><td>2.984736e-06</td><td>4.548439</td><td>4.385527e-04</td></tr>\n",
       "\t<tr><td>station_pressure </td><td>3</td><td>7.807620e-07</td><td>4.548439</td><td>4.385527e-04</td></tr>\n",
       "\t<tr><td>(Intercept)      </td><td>4</td><td>4.495338e-03</td><td>4.144369</td><td>4.807303e-04</td></tr>\n",
       "\t<tr><td>relative_humidity</td><td>4</td><td>2.088775e-06</td><td>4.144369</td><td>4.807303e-04</td></tr>\n",
       "\t<tr><td>dry_bulb_temp_f  </td><td>4</td><td>8.697161e-08</td><td>4.144369</td><td>4.807303e-04</td></tr>\n",
       "\t<tr><td>wind_speed       </td><td>4</td><td>3.273493e-06</td><td>4.144369</td><td>4.807303e-04</td></tr>\n",
       "\t<tr><td>station_pressure </td><td>4</td><td>8.520939e-07</td><td>4.144369</td><td>4.807303e-04</td></tr>\n",
       "\t<tr><td>(Intercept)      </td><td>5</td><td>4.476081e-03</td><td>3.776194</td><td>5.269034e-04</td></tr>\n",
       "\t<tr><td>relative_humidity</td><td>5</td><td>2.290469e-06</td><td>3.776194</td><td>5.269034e-04</td></tr>\n",
       "\t<tr><td>dry_bulb_temp_f  </td><td>5</td><td>9.460568e-08</td><td>3.776194</td><td>5.269034e-04</td></tr>\n",
       "\t<tr><td>wind_speed       </td><td>5</td><td>3.589950e-06</td><td>3.776194</td><td>5.269034e-04</td></tr>\n",
       "\t<tr><td>station_pressure </td><td>5</td><td>9.294199e-07</td><td>3.776194</td><td>5.269034e-04</td></tr>\n",
       "\t<tr><td>(Intercept)      </td><td>6</td><td>4.455022e-03</td><td>3.440728</td><td>5.774385e-04</td></tr>\n",
       "\t<tr><td>relative_humidity</td><td>6</td><td>2.511433e-06</td><td>3.440728</td><td>5.774385e-04</td></tr>\n",
       "\t<tr><td>dry_bulb_temp_f  </td><td>6</td><td>1.028158e-07</td><td>3.440728</td><td>5.774385e-04</td></tr>\n",
       "\t<tr><td>wind_speed       </td><td>6</td><td>3.936714e-06</td><td>3.440728</td><td>5.774385e-04</td></tr>\n",
       "\t<tr><td>station_pressure </td><td>6</td><td>1.013134e-06</td><td>3.440728</td><td>5.774385e-04</td></tr>\n",
       "\t<tr><td>⋮</td><td>⋮</td><td>⋮</td><td>⋮</td><td>⋮</td></tr>\n",
       "\t<tr><td>(Intercept)      </td><td> 95</td><td>-1.536584e-03</td><td>0.0008723499</td><td>0.03751212</td></tr>\n",
       "\t<tr><td>relative_humidity</td><td> 95</td><td> 3.197436e-04</td><td>0.0008723499</td><td>0.03751212</td></tr>\n",
       "\t<tr><td>dry_bulb_temp_f  </td><td> 95</td><td>-2.012443e-05</td><td>0.0008723499</td><td>0.03751212</td></tr>\n",
       "\t<tr><td>wind_speed       </td><td> 95</td><td> 5.701667e-04</td><td>0.0008723499</td><td>0.03751212</td></tr>\n",
       "\t<tr><td>station_pressure </td><td> 95</td><td>-6.774848e-04</td><td>0.0008723499</td><td>0.03751212</td></tr>\n",
       "\t<tr><td>(Intercept)      </td><td> 96</td><td>-1.508025e-03</td><td>0.0007948527</td><td>0.03752371</td></tr>\n",
       "\t<tr><td>relative_humidity</td><td> 96</td><td> 3.208973e-04</td><td>0.0007948527</td><td>0.03752371</td></tr>\n",
       "\t<tr><td>dry_bulb_temp_f  </td><td> 96</td><td>-2.001323e-05</td><td>0.0007948527</td><td>0.03752371</td></tr>\n",
       "\t<tr><td>wind_speed       </td><td> 96</td><td> 5.725013e-04</td><td>0.0007948527</td><td>0.03752371</td></tr>\n",
       "\t<tr><td>station_pressure </td><td> 96</td><td>-6.821283e-04</td><td>0.0007948527</td><td>0.03752371</td></tr>\n",
       "\t<tr><td>(Intercept)      </td><td> 97</td><td>-1.481613e-03</td><td>0.0007242402</td><td>0.03753346</td></tr>\n",
       "\t<tr><td>relative_humidity</td><td> 97</td><td> 3.219570e-04</td><td>0.0007242402</td><td>0.03753346</td></tr>\n",
       "\t<tr><td>dry_bulb_temp_f  </td><td> 97</td><td>-1.990896e-05</td><td>0.0007242402</td><td>0.03753346</td></tr>\n",
       "\t<tr><td>wind_speed       </td><td> 97</td><td> 5.746475e-04</td><td>0.0007242402</td><td>0.03753346</td></tr>\n",
       "\t<tr><td>station_pressure </td><td> 97</td><td>-6.864042e-04</td><td>0.0007242402</td><td>0.03753346</td></tr>\n",
       "\t<tr><td>(Intercept)      </td><td> 98</td><td>-1.457218e-03</td><td>0.0006599007</td><td>0.03754165</td></tr>\n",
       "\t<tr><td>relative_humidity</td><td> 98</td><td> 3.229295e-04</td><td>0.0006599007</td><td>0.03754165</td></tr>\n",
       "\t<tr><td>dry_bulb_temp_f  </td><td> 98</td><td>-1.981146e-05</td><td>0.0006599007</td><td>0.03754165</td></tr>\n",
       "\t<tr><td>wind_speed       </td><td> 98</td><td> 5.766191e-04</td><td>0.0006599007</td><td>0.03754165</td></tr>\n",
       "\t<tr><td>station_pressure </td><td> 98</td><td>-6.903379e-04</td><td>0.0006599007</td><td>0.03754165</td></tr>\n",
       "\t<tr><td>(Intercept)      </td><td> 99</td><td>-1.434713e-03</td><td>0.0006012769</td><td>0.03754853</td></tr>\n",
       "\t<tr><td>relative_humidity</td><td> 99</td><td> 3.238216e-04</td><td>0.0006012769</td><td>0.03754853</td></tr>\n",
       "\t<tr><td>dry_bulb_temp_f  </td><td> 99</td><td>-1.972050e-05</td><td>0.0006012769</td><td>0.03754853</td></tr>\n",
       "\t<tr><td>wind_speed       </td><td> 99</td><td> 5.784291e-04</td><td>0.0006012769</td><td>0.03754853</td></tr>\n",
       "\t<tr><td>station_pressure </td><td> 99</td><td>-6.939540e-04</td><td>0.0006012769</td><td>0.03754853</td></tr>\n",
       "\t<tr><td>(Intercept)      </td><td>100</td><td>-1.412854e-03</td><td>0.0005478611</td><td>0.03755381</td></tr>\n",
       "\t<tr><td>relative_humidity</td><td>100</td><td> 3.245754e-04</td><td>0.0005478611</td><td>0.03755381</td></tr>\n",
       "\t<tr><td>dry_bulb_temp_f  </td><td>100</td><td>-1.972400e-05</td><td>0.0005478611</td><td>0.03755381</td></tr>\n",
       "\t<tr><td>wind_speed       </td><td>100</td><td> 5.799020e-04</td><td>0.0005478611</td><td>0.03755381</td></tr>\n",
       "\t<tr><td>station_pressure </td><td>100</td><td>-6.969366e-04</td><td>0.0005478611</td><td>0.03755381</td></tr>\n",
       "</tbody>\n",
       "</table>\n"
      ],
      "text/latex": [
       "A tibble: 500 × 5\n",
       "\\begin{tabular}{lllll}\n",
       " term & step & estimate & lambda & dev.ratio\\\\\n",
       " <chr> & <dbl> & <dbl> & <dbl> & <dbl>\\\\\n",
       "\\hline\n",
       "\t (Intercept)       & 1 & 4.696639e-03 & 5.478611 & 5.662306e-38\\\\\n",
       "\t relative\\_humidity & 1 & 2.448332e-40 & 5.478611 & 5.662306e-38\\\\\n",
       "\t dry\\_bulb\\_temp\\_f   & 1 & 1.104580e-41 & 5.478611 & 5.662306e-38\\\\\n",
       "\t wind\\_speed        & 1 & 3.832928e-40 & 5.478611 & 5.662306e-38\\\\\n",
       "\t station\\_pressure  & 1 & 1.053686e-40 & 5.478611 & 5.662306e-38\\\\\n",
       "\t (Intercept)       & 2 & 4.529025e-03 & 4.991907 & 4.000335e-04\\\\\n",
       "\t relative\\_humidity & 2 & 1.736727e-06 & 4.991907 & 4.000335e-04\\\\\n",
       "\t dry\\_bulb\\_temp\\_f   & 2 & 7.332596e-08 & 4.991907 & 4.000335e-04\\\\\n",
       "\t wind\\_speed        & 2 & 2.721285e-06 & 4.991907 & 4.000335e-04\\\\\n",
       "\t station\\_pressure  & 2 & 7.150370e-07 & 4.991907 & 4.000335e-04\\\\\n",
       "\t (Intercept)       & 3 & 4.512940e-03 & 4.548439 & 4.385527e-04\\\\\n",
       "\t relative\\_humidity & 3 & 1.904699e-06 & 4.548439 & 4.385527e-04\\\\\n",
       "\t dry\\_bulb\\_temp\\_f   & 3 & 7.988763e-08 & 4.548439 & 4.385527e-04\\\\\n",
       "\t wind\\_speed        & 3 & 2.984736e-06 & 4.548439 & 4.385527e-04\\\\\n",
       "\t station\\_pressure  & 3 & 7.807620e-07 & 4.548439 & 4.385527e-04\\\\\n",
       "\t (Intercept)       & 4 & 4.495338e-03 & 4.144369 & 4.807303e-04\\\\\n",
       "\t relative\\_humidity & 4 & 2.088775e-06 & 4.144369 & 4.807303e-04\\\\\n",
       "\t dry\\_bulb\\_temp\\_f   & 4 & 8.697161e-08 & 4.144369 & 4.807303e-04\\\\\n",
       "\t wind\\_speed        & 4 & 3.273493e-06 & 4.144369 & 4.807303e-04\\\\\n",
       "\t station\\_pressure  & 4 & 8.520939e-07 & 4.144369 & 4.807303e-04\\\\\n",
       "\t (Intercept)       & 5 & 4.476081e-03 & 3.776194 & 5.269034e-04\\\\\n",
       "\t relative\\_humidity & 5 & 2.290469e-06 & 3.776194 & 5.269034e-04\\\\\n",
       "\t dry\\_bulb\\_temp\\_f   & 5 & 9.460568e-08 & 3.776194 & 5.269034e-04\\\\\n",
       "\t wind\\_speed        & 5 & 3.589950e-06 & 3.776194 & 5.269034e-04\\\\\n",
       "\t station\\_pressure  & 5 & 9.294199e-07 & 3.776194 & 5.269034e-04\\\\\n",
       "\t (Intercept)       & 6 & 4.455022e-03 & 3.440728 & 5.774385e-04\\\\\n",
       "\t relative\\_humidity & 6 & 2.511433e-06 & 3.440728 & 5.774385e-04\\\\\n",
       "\t dry\\_bulb\\_temp\\_f   & 6 & 1.028158e-07 & 3.440728 & 5.774385e-04\\\\\n",
       "\t wind\\_speed        & 6 & 3.936714e-06 & 3.440728 & 5.774385e-04\\\\\n",
       "\t station\\_pressure  & 6 & 1.013134e-06 & 3.440728 & 5.774385e-04\\\\\n",
       "\t ⋮ & ⋮ & ⋮ & ⋮ & ⋮\\\\\n",
       "\t (Intercept)       &  95 & -1.536584e-03 & 0.0008723499 & 0.03751212\\\\\n",
       "\t relative\\_humidity &  95 &  3.197436e-04 & 0.0008723499 & 0.03751212\\\\\n",
       "\t dry\\_bulb\\_temp\\_f   &  95 & -2.012443e-05 & 0.0008723499 & 0.03751212\\\\\n",
       "\t wind\\_speed        &  95 &  5.701667e-04 & 0.0008723499 & 0.03751212\\\\\n",
       "\t station\\_pressure  &  95 & -6.774848e-04 & 0.0008723499 & 0.03751212\\\\\n",
       "\t (Intercept)       &  96 & -1.508025e-03 & 0.0007948527 & 0.03752371\\\\\n",
       "\t relative\\_humidity &  96 &  3.208973e-04 & 0.0007948527 & 0.03752371\\\\\n",
       "\t dry\\_bulb\\_temp\\_f   &  96 & -2.001323e-05 & 0.0007948527 & 0.03752371\\\\\n",
       "\t wind\\_speed        &  96 &  5.725013e-04 & 0.0007948527 & 0.03752371\\\\\n",
       "\t station\\_pressure  &  96 & -6.821283e-04 & 0.0007948527 & 0.03752371\\\\\n",
       "\t (Intercept)       &  97 & -1.481613e-03 & 0.0007242402 & 0.03753346\\\\\n",
       "\t relative\\_humidity &  97 &  3.219570e-04 & 0.0007242402 & 0.03753346\\\\\n",
       "\t dry\\_bulb\\_temp\\_f   &  97 & -1.990896e-05 & 0.0007242402 & 0.03753346\\\\\n",
       "\t wind\\_speed        &  97 &  5.746475e-04 & 0.0007242402 & 0.03753346\\\\\n",
       "\t station\\_pressure  &  97 & -6.864042e-04 & 0.0007242402 & 0.03753346\\\\\n",
       "\t (Intercept)       &  98 & -1.457218e-03 & 0.0006599007 & 0.03754165\\\\\n",
       "\t relative\\_humidity &  98 &  3.229295e-04 & 0.0006599007 & 0.03754165\\\\\n",
       "\t dry\\_bulb\\_temp\\_f   &  98 & -1.981146e-05 & 0.0006599007 & 0.03754165\\\\\n",
       "\t wind\\_speed        &  98 &  5.766191e-04 & 0.0006599007 & 0.03754165\\\\\n",
       "\t station\\_pressure  &  98 & -6.903379e-04 & 0.0006599007 & 0.03754165\\\\\n",
       "\t (Intercept)       &  99 & -1.434713e-03 & 0.0006012769 & 0.03754853\\\\\n",
       "\t relative\\_humidity &  99 &  3.238216e-04 & 0.0006012769 & 0.03754853\\\\\n",
       "\t dry\\_bulb\\_temp\\_f   &  99 & -1.972050e-05 & 0.0006012769 & 0.03754853\\\\\n",
       "\t wind\\_speed        &  99 &  5.784291e-04 & 0.0006012769 & 0.03754853\\\\\n",
       "\t station\\_pressure  &  99 & -6.939540e-04 & 0.0006012769 & 0.03754853\\\\\n",
       "\t (Intercept)       & 100 & -1.412854e-03 & 0.0005478611 & 0.03755381\\\\\n",
       "\t relative\\_humidity & 100 &  3.245754e-04 & 0.0005478611 & 0.03755381\\\\\n",
       "\t dry\\_bulb\\_temp\\_f   & 100 & -1.972400e-05 & 0.0005478611 & 0.03755381\\\\\n",
       "\t wind\\_speed        & 100 &  5.799020e-04 & 0.0005478611 & 0.03755381\\\\\n",
       "\t station\\_pressure  & 100 & -6.969366e-04 & 0.0005478611 & 0.03755381\\\\\n",
       "\\end{tabular}\n"
      ],
      "text/markdown": [
       "\n",
       "A tibble: 500 × 5\n",
       "\n",
       "| term &lt;chr&gt; | step &lt;dbl&gt; | estimate &lt;dbl&gt; | lambda &lt;dbl&gt; | dev.ratio &lt;dbl&gt; |\n",
       "|---|---|---|---|---|\n",
       "| (Intercept)       | 1 | 4.696639e-03 | 5.478611 | 5.662306e-38 |\n",
       "| relative_humidity | 1 | 2.448332e-40 | 5.478611 | 5.662306e-38 |\n",
       "| dry_bulb_temp_f   | 1 | 1.104580e-41 | 5.478611 | 5.662306e-38 |\n",
       "| wind_speed        | 1 | 3.832928e-40 | 5.478611 | 5.662306e-38 |\n",
       "| station_pressure  | 1 | 1.053686e-40 | 5.478611 | 5.662306e-38 |\n",
       "| (Intercept)       | 2 | 4.529025e-03 | 4.991907 | 4.000335e-04 |\n",
       "| relative_humidity | 2 | 1.736727e-06 | 4.991907 | 4.000335e-04 |\n",
       "| dry_bulb_temp_f   | 2 | 7.332596e-08 | 4.991907 | 4.000335e-04 |\n",
       "| wind_speed        | 2 | 2.721285e-06 | 4.991907 | 4.000335e-04 |\n",
       "| station_pressure  | 2 | 7.150370e-07 | 4.991907 | 4.000335e-04 |\n",
       "| (Intercept)       | 3 | 4.512940e-03 | 4.548439 | 4.385527e-04 |\n",
       "| relative_humidity | 3 | 1.904699e-06 | 4.548439 | 4.385527e-04 |\n",
       "| dry_bulb_temp_f   | 3 | 7.988763e-08 | 4.548439 | 4.385527e-04 |\n",
       "| wind_speed        | 3 | 2.984736e-06 | 4.548439 | 4.385527e-04 |\n",
       "| station_pressure  | 3 | 7.807620e-07 | 4.548439 | 4.385527e-04 |\n",
       "| (Intercept)       | 4 | 4.495338e-03 | 4.144369 | 4.807303e-04 |\n",
       "| relative_humidity | 4 | 2.088775e-06 | 4.144369 | 4.807303e-04 |\n",
       "| dry_bulb_temp_f   | 4 | 8.697161e-08 | 4.144369 | 4.807303e-04 |\n",
       "| wind_speed        | 4 | 3.273493e-06 | 4.144369 | 4.807303e-04 |\n",
       "| station_pressure  | 4 | 8.520939e-07 | 4.144369 | 4.807303e-04 |\n",
       "| (Intercept)       | 5 | 4.476081e-03 | 3.776194 | 5.269034e-04 |\n",
       "| relative_humidity | 5 | 2.290469e-06 | 3.776194 | 5.269034e-04 |\n",
       "| dry_bulb_temp_f   | 5 | 9.460568e-08 | 3.776194 | 5.269034e-04 |\n",
       "| wind_speed        | 5 | 3.589950e-06 | 3.776194 | 5.269034e-04 |\n",
       "| station_pressure  | 5 | 9.294199e-07 | 3.776194 | 5.269034e-04 |\n",
       "| (Intercept)       | 6 | 4.455022e-03 | 3.440728 | 5.774385e-04 |\n",
       "| relative_humidity | 6 | 2.511433e-06 | 3.440728 | 5.774385e-04 |\n",
       "| dry_bulb_temp_f   | 6 | 1.028158e-07 | 3.440728 | 5.774385e-04 |\n",
       "| wind_speed        | 6 | 3.936714e-06 | 3.440728 | 5.774385e-04 |\n",
       "| station_pressure  | 6 | 1.013134e-06 | 3.440728 | 5.774385e-04 |\n",
       "| ⋮ | ⋮ | ⋮ | ⋮ | ⋮ |\n",
       "| (Intercept)       |  95 | -1.536584e-03 | 0.0008723499 | 0.03751212 |\n",
       "| relative_humidity |  95 |  3.197436e-04 | 0.0008723499 | 0.03751212 |\n",
       "| dry_bulb_temp_f   |  95 | -2.012443e-05 | 0.0008723499 | 0.03751212 |\n",
       "| wind_speed        |  95 |  5.701667e-04 | 0.0008723499 | 0.03751212 |\n",
       "| station_pressure  |  95 | -6.774848e-04 | 0.0008723499 | 0.03751212 |\n",
       "| (Intercept)       |  96 | -1.508025e-03 | 0.0007948527 | 0.03752371 |\n",
       "| relative_humidity |  96 |  3.208973e-04 | 0.0007948527 | 0.03752371 |\n",
       "| dry_bulb_temp_f   |  96 | -2.001323e-05 | 0.0007948527 | 0.03752371 |\n",
       "| wind_speed        |  96 |  5.725013e-04 | 0.0007948527 | 0.03752371 |\n",
       "| station_pressure  |  96 | -6.821283e-04 | 0.0007948527 | 0.03752371 |\n",
       "| (Intercept)       |  97 | -1.481613e-03 | 0.0007242402 | 0.03753346 |\n",
       "| relative_humidity |  97 |  3.219570e-04 | 0.0007242402 | 0.03753346 |\n",
       "| dry_bulb_temp_f   |  97 | -1.990896e-05 | 0.0007242402 | 0.03753346 |\n",
       "| wind_speed        |  97 |  5.746475e-04 | 0.0007242402 | 0.03753346 |\n",
       "| station_pressure  |  97 | -6.864042e-04 | 0.0007242402 | 0.03753346 |\n",
       "| (Intercept)       |  98 | -1.457218e-03 | 0.0006599007 | 0.03754165 |\n",
       "| relative_humidity |  98 |  3.229295e-04 | 0.0006599007 | 0.03754165 |\n",
       "| dry_bulb_temp_f   |  98 | -1.981146e-05 | 0.0006599007 | 0.03754165 |\n",
       "| wind_speed        |  98 |  5.766191e-04 | 0.0006599007 | 0.03754165 |\n",
       "| station_pressure  |  98 | -6.903379e-04 | 0.0006599007 | 0.03754165 |\n",
       "| (Intercept)       |  99 | -1.434713e-03 | 0.0006012769 | 0.03754853 |\n",
       "| relative_humidity |  99 |  3.238216e-04 | 0.0006012769 | 0.03754853 |\n",
       "| dry_bulb_temp_f   |  99 | -1.972050e-05 | 0.0006012769 | 0.03754853 |\n",
       "| wind_speed        |  99 |  5.784291e-04 | 0.0006012769 | 0.03754853 |\n",
       "| station_pressure  |  99 | -6.939540e-04 | 0.0006012769 | 0.03754853 |\n",
       "| (Intercept)       | 100 | -1.412854e-03 | 0.0005478611 | 0.03755381 |\n",
       "| relative_humidity | 100 |  3.245754e-04 | 0.0005478611 | 0.03755381 |\n",
       "| dry_bulb_temp_f   | 100 | -1.972400e-05 | 0.0005478611 | 0.03755381 |\n",
       "| wind_speed        | 100 |  5.799020e-04 | 0.0005478611 | 0.03755381 |\n",
       "| station_pressure  | 100 | -6.969366e-04 | 0.0005478611 | 0.03755381 |\n",
       "\n"
      ],
      "text/plain": [
       "    term              step estimate      lambda       dev.ratio   \n",
       "1   (Intercept)       1    4.696639e-03  5.478611     5.662306e-38\n",
       "2   relative_humidity 1    2.448332e-40  5.478611     5.662306e-38\n",
       "3   dry_bulb_temp_f   1    1.104580e-41  5.478611     5.662306e-38\n",
       "4   wind_speed        1    3.832928e-40  5.478611     5.662306e-38\n",
       "5   station_pressure  1    1.053686e-40  5.478611     5.662306e-38\n",
       "6   (Intercept)       2    4.529025e-03  4.991907     4.000335e-04\n",
       "7   relative_humidity 2    1.736727e-06  4.991907     4.000335e-04\n",
       "8   dry_bulb_temp_f   2    7.332596e-08  4.991907     4.000335e-04\n",
       "9   wind_speed        2    2.721285e-06  4.991907     4.000335e-04\n",
       "10  station_pressure  2    7.150370e-07  4.991907     4.000335e-04\n",
       "11  (Intercept)       3    4.512940e-03  4.548439     4.385527e-04\n",
       "12  relative_humidity 3    1.904699e-06  4.548439     4.385527e-04\n",
       "13  dry_bulb_temp_f   3    7.988763e-08  4.548439     4.385527e-04\n",
       "14  wind_speed        3    2.984736e-06  4.548439     4.385527e-04\n",
       "15  station_pressure  3    7.807620e-07  4.548439     4.385527e-04\n",
       "16  (Intercept)       4    4.495338e-03  4.144369     4.807303e-04\n",
       "17  relative_humidity 4    2.088775e-06  4.144369     4.807303e-04\n",
       "18  dry_bulb_temp_f   4    8.697161e-08  4.144369     4.807303e-04\n",
       "19  wind_speed        4    3.273493e-06  4.144369     4.807303e-04\n",
       "20  station_pressure  4    8.520939e-07  4.144369     4.807303e-04\n",
       "21  (Intercept)       5    4.476081e-03  3.776194     5.269034e-04\n",
       "22  relative_humidity 5    2.290469e-06  3.776194     5.269034e-04\n",
       "23  dry_bulb_temp_f   5    9.460568e-08  3.776194     5.269034e-04\n",
       "24  wind_speed        5    3.589950e-06  3.776194     5.269034e-04\n",
       "25  station_pressure  5    9.294199e-07  3.776194     5.269034e-04\n",
       "26  (Intercept)       6    4.455022e-03  3.440728     5.774385e-04\n",
       "27  relative_humidity 6    2.511433e-06  3.440728     5.774385e-04\n",
       "28  dry_bulb_temp_f   6    1.028158e-07  3.440728     5.774385e-04\n",
       "29  wind_speed        6    3.936714e-06  3.440728     5.774385e-04\n",
       "30  station_pressure  6    1.013134e-06  3.440728     5.774385e-04\n",
       "⋮   ⋮                 ⋮    ⋮             ⋮            ⋮           \n",
       "471 (Intercept)        95  -1.536584e-03 0.0008723499 0.03751212  \n",
       "472 relative_humidity  95   3.197436e-04 0.0008723499 0.03751212  \n",
       "473 dry_bulb_temp_f    95  -2.012443e-05 0.0008723499 0.03751212  \n",
       "474 wind_speed         95   5.701667e-04 0.0008723499 0.03751212  \n",
       "475 station_pressure   95  -6.774848e-04 0.0008723499 0.03751212  \n",
       "476 (Intercept)        96  -1.508025e-03 0.0007948527 0.03752371  \n",
       "477 relative_humidity  96   3.208973e-04 0.0007948527 0.03752371  \n",
       "478 dry_bulb_temp_f    96  -2.001323e-05 0.0007948527 0.03752371  \n",
       "479 wind_speed         96   5.725013e-04 0.0007948527 0.03752371  \n",
       "480 station_pressure   96  -6.821283e-04 0.0007948527 0.03752371  \n",
       "481 (Intercept)        97  -1.481613e-03 0.0007242402 0.03753346  \n",
       "482 relative_humidity  97   3.219570e-04 0.0007242402 0.03753346  \n",
       "483 dry_bulb_temp_f    97  -1.990896e-05 0.0007242402 0.03753346  \n",
       "484 wind_speed         97   5.746475e-04 0.0007242402 0.03753346  \n",
       "485 station_pressure   97  -6.864042e-04 0.0007242402 0.03753346  \n",
       "486 (Intercept)        98  -1.457218e-03 0.0006599007 0.03754165  \n",
       "487 relative_humidity  98   3.229295e-04 0.0006599007 0.03754165  \n",
       "488 dry_bulb_temp_f    98  -1.981146e-05 0.0006599007 0.03754165  \n",
       "489 wind_speed         98   5.766191e-04 0.0006599007 0.03754165  \n",
       "490 station_pressure   98  -6.903379e-04 0.0006599007 0.03754165  \n",
       "491 (Intercept)        99  -1.434713e-03 0.0006012769 0.03754853  \n",
       "492 relative_humidity  99   3.238216e-04 0.0006012769 0.03754853  \n",
       "493 dry_bulb_temp_f    99  -1.972050e-05 0.0006012769 0.03754853  \n",
       "494 wind_speed         99   5.784291e-04 0.0006012769 0.03754853  \n",
       "495 station_pressure   99  -6.939540e-04 0.0006012769 0.03754853  \n",
       "496 (Intercept)       100  -1.412854e-03 0.0005478611 0.03755381  \n",
       "497 relative_humidity 100   3.245754e-04 0.0005478611 0.03755381  \n",
       "498 dry_bulb_temp_f   100  -1.972400e-05 0.0005478611 0.03755381  \n",
       "499 wind_speed        100   5.799020e-04 0.0005478611 0.03755381  \n",
       "500 station_pressure  100  -6.969366e-04 0.0005478611 0.03755381  "
      ]
     },
     "metadata": {},
     "output_type": "display_data"
    }
   ],
   "source": [
    "weather_recipe <- recipe(precip ~., data = train_data)\n",
    "ridge_spec <- linear_reg(penalty = 0.1, mixture = 0) %>% set_engine(\"glmnet\")\n",
    "ridge_wf <- workflow() %>% add_recipe(weather_recipe)\n",
    "ridge_fit <- ridge_wf %>% add_model(ridge_spec) %>% fit(data=train_data)\n",
    "ridge_fit %>% pull_workflow_fit() %>% tidy()"
   ]
  },
  {
   "cell_type": "code",
   "execution_count": 43,
   "metadata": {
    "tags": []
   },
   "outputs": [
    {
     "data": {
      "text/html": [
       "<table>\n",
       "<caption>A tibble: 6 × 2</caption>\n",
       "<thead>\n",
       "\t<tr><th scope=col>.pred</th><th scope=col>truth</th></tr>\n",
       "\t<tr><th scope=col>&lt;dbl&gt;</th><th scope=col>&lt;dbl&gt;</th></tr>\n",
       "</thead>\n",
       "<tbody>\n",
       "\t<tr><td>0.003572939</td><td>0.00</td></tr>\n",
       "\t<tr><td>0.006510884</td><td>0.00</td></tr>\n",
       "\t<tr><td>0.005108776</td><td>0.00</td></tr>\n",
       "\t<tr><td>0.004761205</td><td>0.00</td></tr>\n",
       "\t<tr><td>0.006317116</td><td>0.06</td></tr>\n",
       "\t<tr><td>0.006576503</td><td>0.00</td></tr>\n",
       "</tbody>\n",
       "</table>\n"
      ],
      "text/latex": [
       "A tibble: 6 × 2\n",
       "\\begin{tabular}{ll}\n",
       " .pred & truth\\\\\n",
       " <dbl> & <dbl>\\\\\n",
       "\\hline\n",
       "\t 0.003572939 & 0.00\\\\\n",
       "\t 0.006510884 & 0.00\\\\\n",
       "\t 0.005108776 & 0.00\\\\\n",
       "\t 0.004761205 & 0.00\\\\\n",
       "\t 0.006317116 & 0.06\\\\\n",
       "\t 0.006576503 & 0.00\\\\\n",
       "\\end{tabular}\n"
      ],
      "text/markdown": [
       "\n",
       "A tibble: 6 × 2\n",
       "\n",
       "| .pred &lt;dbl&gt; | truth &lt;dbl&gt; |\n",
       "|---|---|\n",
       "| 0.003572939 | 0.00 |\n",
       "| 0.006510884 | 0.00 |\n",
       "| 0.005108776 | 0.00 |\n",
       "| 0.004761205 | 0.00 |\n",
       "| 0.006317116 | 0.06 |\n",
       "| 0.006576503 | 0.00 |\n",
       "\n"
      ],
      "text/plain": [
       "  .pred       truth\n",
       "1 0.003572939 0.00 \n",
       "2 0.006510884 0.00 \n",
       "3 0.005108776 0.00 \n",
       "4 0.004761205 0.00 \n",
       "5 0.006317116 0.06 \n",
       "6 0.006576503 0.00 "
      ]
     },
     "metadata": {},
     "output_type": "display_data"
    }
   ],
   "source": [
    "train_result6 <- ridge_fit %>% predict(new_data = train_data) %>% mutate(truth=train_data$precip)\n",
    "head(train_result6)"
   ]
  },
  {
   "cell_type": "code",
   "execution_count": 42,
   "metadata": {
    "tags": []
   },
   "outputs": [
    {
     "data": {
      "text/html": [
       "<table>\n",
       "<caption>A tibble: 5 × 6</caption>\n",
       "<thead>\n",
       "\t<tr><th scope=col>penalty</th><th scope=col>.metric</th><th scope=col>.estimator</th><th scope=col>mean</th><th scope=col>n</th><th scope=col>std_err</th></tr>\n",
       "\t<tr><th scope=col>&lt;dbl&gt;</th><th scope=col>&lt;chr&gt;</th><th scope=col>&lt;chr&gt;</th><th scope=col>&lt;dbl&gt;</th><th scope=col>&lt;int&gt;</th><th scope=col>&lt;dbl&gt;</th></tr>\n",
       "</thead>\n",
       "<tbody>\n",
       "\t<tr><td>0.002960933</td><td>rmse</td><td>standard</td><td>0.03259495</td><td>10</td><td>0.004599108</td></tr>\n",
       "\t<tr><td>0.003457606</td><td>rmse</td><td>standard</td><td>0.03259516</td><td>10</td><td>0.004601775</td></tr>\n",
       "\t<tr><td>0.002535605</td><td>rmse</td><td>standard</td><td>0.03259526</td><td>10</td><td>0.004596669</td></tr>\n",
       "\t<tr><td>0.002171374</td><td>rmse</td><td>standard</td><td>0.03259591</td><td>10</td><td>0.004594455</td></tr>\n",
       "\t<tr><td>0.004037592</td><td>rmse</td><td>standard</td><td>0.03259604</td><td>10</td><td>0.004604658</td></tr>\n",
       "</tbody>\n",
       "</table>\n"
      ],
      "text/latex": [
       "A tibble: 5 × 6\n",
       "\\begin{tabular}{llllll}\n",
       " penalty & .metric & .estimator & mean & n & std\\_err\\\\\n",
       " <dbl> & <chr> & <chr> & <dbl> & <int> & <dbl>\\\\\n",
       "\\hline\n",
       "\t 0.002960933 & rmse & standard & 0.03259495 & 10 & 0.004599108\\\\\n",
       "\t 0.003457606 & rmse & standard & 0.03259516 & 10 & 0.004601775\\\\\n",
       "\t 0.002535605 & rmse & standard & 0.03259526 & 10 & 0.004596669\\\\\n",
       "\t 0.002171374 & rmse & standard & 0.03259591 & 10 & 0.004594455\\\\\n",
       "\t 0.004037592 & rmse & standard & 0.03259604 & 10 & 0.004604658\\\\\n",
       "\\end{tabular}\n"
      ],
      "text/markdown": [
       "\n",
       "A tibble: 5 × 6\n",
       "\n",
       "| penalty &lt;dbl&gt; | .metric &lt;chr&gt; | .estimator &lt;chr&gt; | mean &lt;dbl&gt; | n &lt;int&gt; | std_err &lt;dbl&gt; |\n",
       "|---|---|---|---|---|---|\n",
       "| 0.002960933 | rmse | standard | 0.03259495 | 10 | 0.004599108 |\n",
       "| 0.003457606 | rmse | standard | 0.03259516 | 10 | 0.004601775 |\n",
       "| 0.002535605 | rmse | standard | 0.03259526 | 10 | 0.004596669 |\n",
       "| 0.002171374 | rmse | standard | 0.03259591 | 10 | 0.004594455 |\n",
       "| 0.004037592 | rmse | standard | 0.03259604 | 10 | 0.004604658 |\n",
       "\n"
      ],
      "text/plain": [
       "  penalty     .metric .estimator mean       n  std_err    \n",
       "1 0.002960933 rmse    standard   0.03259495 10 0.004599108\n",
       "2 0.003457606 rmse    standard   0.03259516 10 0.004601775\n",
       "3 0.002535605 rmse    standard   0.03259526 10 0.004596669\n",
       "4 0.002171374 rmse    standard   0.03259591 10 0.004594455\n",
       "5 0.004037592 rmse    standard   0.03259604 10 0.004604658"
      ]
     },
     "metadata": {},
     "output_type": "display_data"
    }
   ],
   "source": [
    "tune_spec <- linear_reg(penalty = tune(), mixture = 0) %>% set_engine(\"glmnet\")\n",
    "weather_cvfolds <- vfold_cv(train_data)\n",
    "lambda_grid <- grid_regular(levels = 50, penalty(range = c(-3, 0.3)))\n",
    "ridge_grid <- tune_grid(ridge_wf %>% add_model(tune_spec), resamples=weather_cvfolds, grid=lambda_grid)\n",
    "\n",
    "show_best(ridge_grid, metric=\"rmse\")"
   ]
  },
  {
   "cell_type": "code",
   "execution_count": 44,
   "metadata": {
    "tags": []
   },
   "outputs": [
    {
     "data": {
      "text/html": [
       "<table>\n",
       "<caption>A tibble: 286 × 5</caption>\n",
       "<thead>\n",
       "\t<tr><th scope=col>term</th><th scope=col>step</th><th scope=col>estimate</th><th scope=col>lambda</th><th scope=col>dev.ratio</th></tr>\n",
       "\t<tr><th scope=col>&lt;chr&gt;</th><th scope=col>&lt;dbl&gt;</th><th scope=col>&lt;dbl&gt;</th><th scope=col>&lt;dbl&gt;</th><th scope=col>&lt;dbl&gt;</th></tr>\n",
       "</thead>\n",
       "<tbody>\n",
       "\t<tr><td>(Intercept)      </td><td> 1</td><td> 4.696639e-03</td><td>0.027393057</td><td>0.000000000</td></tr>\n",
       "\t<tr><td>(Intercept)      </td><td> 2</td><td> 3.794412e-03</td><td>0.024959534</td><td>0.002567472</td></tr>\n",
       "\t<tr><td>relative_humidity</td><td> 2</td><td> 1.385487e-05</td><td>0.024959534</td><td>0.002567472</td></tr>\n",
       "\t<tr><td>(Intercept)      </td><td> 3</td><td> 2.915930e-03</td><td>0.022742197</td><td>0.004922211</td></tr>\n",
       "\t<tr><td>relative_humidity</td><td> 3</td><td> 2.734512e-05</td><td>0.022742197</td><td>0.004922211</td></tr>\n",
       "\t<tr><td>(Intercept)      </td><td> 4</td><td> 2.063909e-03</td><td>0.020721843</td><td>0.007069198</td></tr>\n",
       "\t<tr><td>relative_humidity</td><td> 4</td><td> 4.042901e-05</td><td>0.020721843</td><td>0.007069198</td></tr>\n",
       "\t<tr><td>(Intercept)      </td><td> 5</td><td> 1.240684e-03</td><td>0.018880972</td><td>0.009015646</td></tr>\n",
       "\t<tr><td>relative_humidity</td><td> 5</td><td> 5.307071e-05</td><td>0.018880972</td><td>0.009015646</td></tr>\n",
       "\t<tr><td>(Intercept)      </td><td> 6</td><td> 4.481940e-04</td><td>0.017203638</td><td>0.010770603</td></tr>\n",
       "\t<tr><td>relative_humidity</td><td> 6</td><td> 6.524043e-05</td><td>0.017203638</td><td>0.010770603</td></tr>\n",
       "\t<tr><td>(Intercept)      </td><td> 7</td><td>-3.120185e-04</td><td>0.015675314</td><td>0.012344546</td></tr>\n",
       "\t<tr><td>relative_humidity</td><td> 7</td><td> 7.691449e-05</td><td>0.015675314</td><td>0.012344546</td></tr>\n",
       "\t<tr><td>(Intercept)      </td><td> 8</td><td>-1.038801e-03</td><td>0.014282763</td><td>0.013748988</td></tr>\n",
       "\t<tr><td>relative_humidity</td><td> 8</td><td> 8.807519e-05</td><td>0.014282763</td><td>0.013748988</td></tr>\n",
       "\t<tr><td>(Intercept)      </td><td> 9</td><td>-1.743212e-03</td><td>0.013013921</td><td>0.015024331</td></tr>\n",
       "\t<tr><td>relative_humidity</td><td> 9</td><td> 9.871060e-05</td><td>0.013013921</td><td>0.015024331</td></tr>\n",
       "\t<tr><td>wind_speed       </td><td> 9</td><td> 1.083353e-06</td><td>0.013013921</td><td>0.015024331</td></tr>\n",
       "\t<tr><td>(Intercept)      </td><td>10</td><td>-2.762888e-03</td><td>0.011857801</td><td>0.016939427</td></tr>\n",
       "\t<tr><td>relative_humidity</td><td>10</td><td> 1.092970e-04</td><td>0.011857801</td><td>0.016939427</td></tr>\n",
       "\t<tr><td>wind_speed       </td><td>10</td><td> 3.131837e-05</td><td>0.011857801</td><td>0.016939427</td></tr>\n",
       "\t<tr><td>(Intercept)      </td><td>11</td><td>-3.729722e-03</td><td>0.010804386</td><td>0.018628464</td></tr>\n",
       "\t<tr><td>relative_humidity</td><td>11</td><td> 1.193274e-04</td><td>0.010804386</td><td>0.018628464</td></tr>\n",
       "\t<tr><td>wind_speed       </td><td>11</td><td> 6.003078e-05</td><td>0.010804386</td><td>0.018628464</td></tr>\n",
       "\t<tr><td>(Intercept)      </td><td>12</td><td>-4.644795e-03</td><td>0.009844554</td><td>0.020113175</td></tr>\n",
       "\t<tr><td>relative_humidity</td><td>12</td><td> 1.288185e-04</td><td>0.009844554</td><td>0.020113175</td></tr>\n",
       "\t<tr><td>wind_speed       </td><td>12</td><td> 8.722042e-05</td><td>0.009844554</td><td>0.020113175</td></tr>\n",
       "\t<tr><td>(Intercept)      </td><td>13</td><td>-5.508514e-03</td><td>0.008969991</td><td>0.021412927</td></tr>\n",
       "\t<tr><td>relative_humidity</td><td>13</td><td> 1.377747e-04</td><td>0.008969991</td><td>0.021412927</td></tr>\n",
       "\t<tr><td>wind_speed       </td><td>13</td><td> 1.128969e-04</td><td>0.008969991</td><td>0.021412927</td></tr>\n",
       "\t<tr><td>⋮</td><td>⋮</td><td>⋮</td><td>⋮</td><td>⋮</td></tr>\n",
       "\t<tr><td>(Intercept)      </td><td>62</td><td>-1.311052e-03</td><td>9.397104e-05</td><td>0.03757916</td></tr>\n",
       "\t<tr><td>relative_humidity</td><td>62</td><td> 3.301408e-04</td><td>9.397104e-05</td><td>0.03757916</td></tr>\n",
       "\t<tr><td>dry_bulb_temp_f  </td><td>62</td><td>-1.812999e-05</td><td>9.397104e-05</td><td>0.03757916</td></tr>\n",
       "\t<tr><td>wind_speed       </td><td>62</td><td> 5.903489e-04</td><td>9.397104e-05</td><td>0.03757916</td></tr>\n",
       "\t<tr><td>station_pressure </td><td>62</td><td>-7.197626e-04</td><td>9.397104e-05</td><td>0.03757916</td></tr>\n",
       "\t<tr><td>(Intercept)      </td><td>63</td><td>-1.300153e-03</td><td>8.562291e-05</td><td>0.03757992</td></tr>\n",
       "\t<tr><td>relative_humidity</td><td>63</td><td> 3.304214e-04</td><td>8.562291e-05</td><td>0.03757992</td></tr>\n",
       "\t<tr><td>dry_bulb_temp_f  </td><td>63</td><td>-1.817752e-05</td><td>8.562291e-05</td><td>0.03757992</td></tr>\n",
       "\t<tr><td>wind_speed       </td><td>63</td><td> 5.910056e-04</td><td>8.562291e-05</td><td>0.03757992</td></tr>\n",
       "\t<tr><td>station_pressure </td><td>63</td><td>-7.209225e-04</td><td>8.562291e-05</td><td>0.03757992</td></tr>\n",
       "\t<tr><td>(Intercept)      </td><td>64</td><td>-1.290214e-03</td><td>7.801641e-05</td><td>0.03758054</td></tr>\n",
       "\t<tr><td>relative_humidity</td><td>64</td><td> 3.306773e-04</td><td>7.801641e-05</td><td>0.03758054</td></tr>\n",
       "\t<tr><td>dry_bulb_temp_f  </td><td>64</td><td>-1.822078e-05</td><td>7.801641e-05</td><td>0.03758054</td></tr>\n",
       "\t<tr><td>wind_speed       </td><td>64</td><td> 5.916044e-04</td><td>7.801641e-05</td><td>0.03758054</td></tr>\n",
       "\t<tr><td>station_pressure </td><td>64</td><td>-7.219803e-04</td><td>7.801641e-05</td><td>0.03758054</td></tr>\n",
       "\t<tr><td>(Intercept)      </td><td>65</td><td>-1.281151e-03</td><td>7.108565e-05</td><td>0.03758106</td></tr>\n",
       "\t<tr><td>relative_humidity</td><td>65</td><td> 3.309106e-04</td><td>7.108565e-05</td><td>0.03758106</td></tr>\n",
       "\t<tr><td>dry_bulb_temp_f  </td><td>65</td><td>-1.826017e-05</td><td>7.108565e-05</td><td>0.03758106</td></tr>\n",
       "\t<tr><td>wind_speed       </td><td>65</td><td> 5.921504e-04</td><td>7.108565e-05</td><td>0.03758106</td></tr>\n",
       "\t<tr><td>station_pressure </td><td>65</td><td>-7.229450e-04</td><td>7.108565e-05</td><td>0.03758106</td></tr>\n",
       "\t<tr><td>(Intercept)      </td><td>66</td><td>-1.272886e-03</td><td>6.477059e-05</td><td>0.03758149</td></tr>\n",
       "\t<tr><td>relative_humidity</td><td>66</td><td> 3.311234e-04</td><td>6.477059e-05</td><td>0.03758149</td></tr>\n",
       "\t<tr><td>dry_bulb_temp_f  </td><td>66</td><td>-1.829603e-05</td><td>6.477059e-05</td><td>0.03758149</td></tr>\n",
       "\t<tr><td>wind_speed       </td><td>66</td><td> 5.926483e-04</td><td>6.477059e-05</td><td>0.03758149</td></tr>\n",
       "\t<tr><td>station_pressure </td><td>66</td><td>-7.238247e-04</td><td>6.477059e-05</td><td>0.03758149</td></tr>\n",
       "\t<tr><td>(Intercept)      </td><td>67</td><td>-1.265351e-03</td><td>5.901655e-05</td><td>0.03758185</td></tr>\n",
       "\t<tr><td>relative_humidity</td><td>67</td><td> 3.313173e-04</td><td>5.901655e-05</td><td>0.03758185</td></tr>\n",
       "\t<tr><td>dry_bulb_temp_f  </td><td>67</td><td>-1.832867e-05</td><td>5.901655e-05</td><td>0.03758185</td></tr>\n",
       "\t<tr><td>wind_speed       </td><td>67</td><td> 5.931021e-04</td><td>5.901655e-05</td><td>0.03758185</td></tr>\n",
       "\t<tr><td>station_pressure </td><td>67</td><td>-7.246268e-04</td><td>5.901655e-05</td><td>0.03758185</td></tr>\n",
       "</tbody>\n",
       "</table>\n"
      ],
      "text/latex": [
       "A tibble: 286 × 5\n",
       "\\begin{tabular}{lllll}\n",
       " term & step & estimate & lambda & dev.ratio\\\\\n",
       " <chr> & <dbl> & <dbl> & <dbl> & <dbl>\\\\\n",
       "\\hline\n",
       "\t (Intercept)       &  1 &  4.696639e-03 & 0.027393057 & 0.000000000\\\\\n",
       "\t (Intercept)       &  2 &  3.794412e-03 & 0.024959534 & 0.002567472\\\\\n",
       "\t relative\\_humidity &  2 &  1.385487e-05 & 0.024959534 & 0.002567472\\\\\n",
       "\t (Intercept)       &  3 &  2.915930e-03 & 0.022742197 & 0.004922211\\\\\n",
       "\t relative\\_humidity &  3 &  2.734512e-05 & 0.022742197 & 0.004922211\\\\\n",
       "\t (Intercept)       &  4 &  2.063909e-03 & 0.020721843 & 0.007069198\\\\\n",
       "\t relative\\_humidity &  4 &  4.042901e-05 & 0.020721843 & 0.007069198\\\\\n",
       "\t (Intercept)       &  5 &  1.240684e-03 & 0.018880972 & 0.009015646\\\\\n",
       "\t relative\\_humidity &  5 &  5.307071e-05 & 0.018880972 & 0.009015646\\\\\n",
       "\t (Intercept)       &  6 &  4.481940e-04 & 0.017203638 & 0.010770603\\\\\n",
       "\t relative\\_humidity &  6 &  6.524043e-05 & 0.017203638 & 0.010770603\\\\\n",
       "\t (Intercept)       &  7 & -3.120185e-04 & 0.015675314 & 0.012344546\\\\\n",
       "\t relative\\_humidity &  7 &  7.691449e-05 & 0.015675314 & 0.012344546\\\\\n",
       "\t (Intercept)       &  8 & -1.038801e-03 & 0.014282763 & 0.013748988\\\\\n",
       "\t relative\\_humidity &  8 &  8.807519e-05 & 0.014282763 & 0.013748988\\\\\n",
       "\t (Intercept)       &  9 & -1.743212e-03 & 0.013013921 & 0.015024331\\\\\n",
       "\t relative\\_humidity &  9 &  9.871060e-05 & 0.013013921 & 0.015024331\\\\\n",
       "\t wind\\_speed        &  9 &  1.083353e-06 & 0.013013921 & 0.015024331\\\\\n",
       "\t (Intercept)       & 10 & -2.762888e-03 & 0.011857801 & 0.016939427\\\\\n",
       "\t relative\\_humidity & 10 &  1.092970e-04 & 0.011857801 & 0.016939427\\\\\n",
       "\t wind\\_speed        & 10 &  3.131837e-05 & 0.011857801 & 0.016939427\\\\\n",
       "\t (Intercept)       & 11 & -3.729722e-03 & 0.010804386 & 0.018628464\\\\\n",
       "\t relative\\_humidity & 11 &  1.193274e-04 & 0.010804386 & 0.018628464\\\\\n",
       "\t wind\\_speed        & 11 &  6.003078e-05 & 0.010804386 & 0.018628464\\\\\n",
       "\t (Intercept)       & 12 & -4.644795e-03 & 0.009844554 & 0.020113175\\\\\n",
       "\t relative\\_humidity & 12 &  1.288185e-04 & 0.009844554 & 0.020113175\\\\\n",
       "\t wind\\_speed        & 12 &  8.722042e-05 & 0.009844554 & 0.020113175\\\\\n",
       "\t (Intercept)       & 13 & -5.508514e-03 & 0.008969991 & 0.021412927\\\\\n",
       "\t relative\\_humidity & 13 &  1.377747e-04 & 0.008969991 & 0.021412927\\\\\n",
       "\t wind\\_speed        & 13 &  1.128969e-04 & 0.008969991 & 0.021412927\\\\\n",
       "\t ⋮ & ⋮ & ⋮ & ⋮ & ⋮\\\\\n",
       "\t (Intercept)       & 62 & -1.311052e-03 & 9.397104e-05 & 0.03757916\\\\\n",
       "\t relative\\_humidity & 62 &  3.301408e-04 & 9.397104e-05 & 0.03757916\\\\\n",
       "\t dry\\_bulb\\_temp\\_f   & 62 & -1.812999e-05 & 9.397104e-05 & 0.03757916\\\\\n",
       "\t wind\\_speed        & 62 &  5.903489e-04 & 9.397104e-05 & 0.03757916\\\\\n",
       "\t station\\_pressure  & 62 & -7.197626e-04 & 9.397104e-05 & 0.03757916\\\\\n",
       "\t (Intercept)       & 63 & -1.300153e-03 & 8.562291e-05 & 0.03757992\\\\\n",
       "\t relative\\_humidity & 63 &  3.304214e-04 & 8.562291e-05 & 0.03757992\\\\\n",
       "\t dry\\_bulb\\_temp\\_f   & 63 & -1.817752e-05 & 8.562291e-05 & 0.03757992\\\\\n",
       "\t wind\\_speed        & 63 &  5.910056e-04 & 8.562291e-05 & 0.03757992\\\\\n",
       "\t station\\_pressure  & 63 & -7.209225e-04 & 8.562291e-05 & 0.03757992\\\\\n",
       "\t (Intercept)       & 64 & -1.290214e-03 & 7.801641e-05 & 0.03758054\\\\\n",
       "\t relative\\_humidity & 64 &  3.306773e-04 & 7.801641e-05 & 0.03758054\\\\\n",
       "\t dry\\_bulb\\_temp\\_f   & 64 & -1.822078e-05 & 7.801641e-05 & 0.03758054\\\\\n",
       "\t wind\\_speed        & 64 &  5.916044e-04 & 7.801641e-05 & 0.03758054\\\\\n",
       "\t station\\_pressure  & 64 & -7.219803e-04 & 7.801641e-05 & 0.03758054\\\\\n",
       "\t (Intercept)       & 65 & -1.281151e-03 & 7.108565e-05 & 0.03758106\\\\\n",
       "\t relative\\_humidity & 65 &  3.309106e-04 & 7.108565e-05 & 0.03758106\\\\\n",
       "\t dry\\_bulb\\_temp\\_f   & 65 & -1.826017e-05 & 7.108565e-05 & 0.03758106\\\\\n",
       "\t wind\\_speed        & 65 &  5.921504e-04 & 7.108565e-05 & 0.03758106\\\\\n",
       "\t station\\_pressure  & 65 & -7.229450e-04 & 7.108565e-05 & 0.03758106\\\\\n",
       "\t (Intercept)       & 66 & -1.272886e-03 & 6.477059e-05 & 0.03758149\\\\\n",
       "\t relative\\_humidity & 66 &  3.311234e-04 & 6.477059e-05 & 0.03758149\\\\\n",
       "\t dry\\_bulb\\_temp\\_f   & 66 & -1.829603e-05 & 6.477059e-05 & 0.03758149\\\\\n",
       "\t wind\\_speed        & 66 &  5.926483e-04 & 6.477059e-05 & 0.03758149\\\\\n",
       "\t station\\_pressure  & 66 & -7.238247e-04 & 6.477059e-05 & 0.03758149\\\\\n",
       "\t (Intercept)       & 67 & -1.265351e-03 & 5.901655e-05 & 0.03758185\\\\\n",
       "\t relative\\_humidity & 67 &  3.313173e-04 & 5.901655e-05 & 0.03758185\\\\\n",
       "\t dry\\_bulb\\_temp\\_f   & 67 & -1.832867e-05 & 5.901655e-05 & 0.03758185\\\\\n",
       "\t wind\\_speed        & 67 &  5.931021e-04 & 5.901655e-05 & 0.03758185\\\\\n",
       "\t station\\_pressure  & 67 & -7.246268e-04 & 5.901655e-05 & 0.03758185\\\\\n",
       "\\end{tabular}\n"
      ],
      "text/markdown": [
       "\n",
       "A tibble: 286 × 5\n",
       "\n",
       "| term &lt;chr&gt; | step &lt;dbl&gt; | estimate &lt;dbl&gt; | lambda &lt;dbl&gt; | dev.ratio &lt;dbl&gt; |\n",
       "|---|---|---|---|---|\n",
       "| (Intercept)       |  1 |  4.696639e-03 | 0.027393057 | 0.000000000 |\n",
       "| (Intercept)       |  2 |  3.794412e-03 | 0.024959534 | 0.002567472 |\n",
       "| relative_humidity |  2 |  1.385487e-05 | 0.024959534 | 0.002567472 |\n",
       "| (Intercept)       |  3 |  2.915930e-03 | 0.022742197 | 0.004922211 |\n",
       "| relative_humidity |  3 |  2.734512e-05 | 0.022742197 | 0.004922211 |\n",
       "| (Intercept)       |  4 |  2.063909e-03 | 0.020721843 | 0.007069198 |\n",
       "| relative_humidity |  4 |  4.042901e-05 | 0.020721843 | 0.007069198 |\n",
       "| (Intercept)       |  5 |  1.240684e-03 | 0.018880972 | 0.009015646 |\n",
       "| relative_humidity |  5 |  5.307071e-05 | 0.018880972 | 0.009015646 |\n",
       "| (Intercept)       |  6 |  4.481940e-04 | 0.017203638 | 0.010770603 |\n",
       "| relative_humidity |  6 |  6.524043e-05 | 0.017203638 | 0.010770603 |\n",
       "| (Intercept)       |  7 | -3.120185e-04 | 0.015675314 | 0.012344546 |\n",
       "| relative_humidity |  7 |  7.691449e-05 | 0.015675314 | 0.012344546 |\n",
       "| (Intercept)       |  8 | -1.038801e-03 | 0.014282763 | 0.013748988 |\n",
       "| relative_humidity |  8 |  8.807519e-05 | 0.014282763 | 0.013748988 |\n",
       "| (Intercept)       |  9 | -1.743212e-03 | 0.013013921 | 0.015024331 |\n",
       "| relative_humidity |  9 |  9.871060e-05 | 0.013013921 | 0.015024331 |\n",
       "| wind_speed        |  9 |  1.083353e-06 | 0.013013921 | 0.015024331 |\n",
       "| (Intercept)       | 10 | -2.762888e-03 | 0.011857801 | 0.016939427 |\n",
       "| relative_humidity | 10 |  1.092970e-04 | 0.011857801 | 0.016939427 |\n",
       "| wind_speed        | 10 |  3.131837e-05 | 0.011857801 | 0.016939427 |\n",
       "| (Intercept)       | 11 | -3.729722e-03 | 0.010804386 | 0.018628464 |\n",
       "| relative_humidity | 11 |  1.193274e-04 | 0.010804386 | 0.018628464 |\n",
       "| wind_speed        | 11 |  6.003078e-05 | 0.010804386 | 0.018628464 |\n",
       "| (Intercept)       | 12 | -4.644795e-03 | 0.009844554 | 0.020113175 |\n",
       "| relative_humidity | 12 |  1.288185e-04 | 0.009844554 | 0.020113175 |\n",
       "| wind_speed        | 12 |  8.722042e-05 | 0.009844554 | 0.020113175 |\n",
       "| (Intercept)       | 13 | -5.508514e-03 | 0.008969991 | 0.021412927 |\n",
       "| relative_humidity | 13 |  1.377747e-04 | 0.008969991 | 0.021412927 |\n",
       "| wind_speed        | 13 |  1.128969e-04 | 0.008969991 | 0.021412927 |\n",
       "| ⋮ | ⋮ | ⋮ | ⋮ | ⋮ |\n",
       "| (Intercept)       | 62 | -1.311052e-03 | 9.397104e-05 | 0.03757916 |\n",
       "| relative_humidity | 62 |  3.301408e-04 | 9.397104e-05 | 0.03757916 |\n",
       "| dry_bulb_temp_f   | 62 | -1.812999e-05 | 9.397104e-05 | 0.03757916 |\n",
       "| wind_speed        | 62 |  5.903489e-04 | 9.397104e-05 | 0.03757916 |\n",
       "| station_pressure  | 62 | -7.197626e-04 | 9.397104e-05 | 0.03757916 |\n",
       "| (Intercept)       | 63 | -1.300153e-03 | 8.562291e-05 | 0.03757992 |\n",
       "| relative_humidity | 63 |  3.304214e-04 | 8.562291e-05 | 0.03757992 |\n",
       "| dry_bulb_temp_f   | 63 | -1.817752e-05 | 8.562291e-05 | 0.03757992 |\n",
       "| wind_speed        | 63 |  5.910056e-04 | 8.562291e-05 | 0.03757992 |\n",
       "| station_pressure  | 63 | -7.209225e-04 | 8.562291e-05 | 0.03757992 |\n",
       "| (Intercept)       | 64 | -1.290214e-03 | 7.801641e-05 | 0.03758054 |\n",
       "| relative_humidity | 64 |  3.306773e-04 | 7.801641e-05 | 0.03758054 |\n",
       "| dry_bulb_temp_f   | 64 | -1.822078e-05 | 7.801641e-05 | 0.03758054 |\n",
       "| wind_speed        | 64 |  5.916044e-04 | 7.801641e-05 | 0.03758054 |\n",
       "| station_pressure  | 64 | -7.219803e-04 | 7.801641e-05 | 0.03758054 |\n",
       "| (Intercept)       | 65 | -1.281151e-03 | 7.108565e-05 | 0.03758106 |\n",
       "| relative_humidity | 65 |  3.309106e-04 | 7.108565e-05 | 0.03758106 |\n",
       "| dry_bulb_temp_f   | 65 | -1.826017e-05 | 7.108565e-05 | 0.03758106 |\n",
       "| wind_speed        | 65 |  5.921504e-04 | 7.108565e-05 | 0.03758106 |\n",
       "| station_pressure  | 65 | -7.229450e-04 | 7.108565e-05 | 0.03758106 |\n",
       "| (Intercept)       | 66 | -1.272886e-03 | 6.477059e-05 | 0.03758149 |\n",
       "| relative_humidity | 66 |  3.311234e-04 | 6.477059e-05 | 0.03758149 |\n",
       "| dry_bulb_temp_f   | 66 | -1.829603e-05 | 6.477059e-05 | 0.03758149 |\n",
       "| wind_speed        | 66 |  5.926483e-04 | 6.477059e-05 | 0.03758149 |\n",
       "| station_pressure  | 66 | -7.238247e-04 | 6.477059e-05 | 0.03758149 |\n",
       "| (Intercept)       | 67 | -1.265351e-03 | 5.901655e-05 | 0.03758185 |\n",
       "| relative_humidity | 67 |  3.313173e-04 | 5.901655e-05 | 0.03758185 |\n",
       "| dry_bulb_temp_f   | 67 | -1.832867e-05 | 5.901655e-05 | 0.03758185 |\n",
       "| wind_speed        | 67 |  5.931021e-04 | 5.901655e-05 | 0.03758185 |\n",
       "| station_pressure  | 67 | -7.246268e-04 | 5.901655e-05 | 0.03758185 |\n",
       "\n"
      ],
      "text/plain": [
       "    term              step estimate      lambda       dev.ratio  \n",
       "1   (Intercept)        1    4.696639e-03 0.027393057  0.000000000\n",
       "2   (Intercept)        2    3.794412e-03 0.024959534  0.002567472\n",
       "3   relative_humidity  2    1.385487e-05 0.024959534  0.002567472\n",
       "4   (Intercept)        3    2.915930e-03 0.022742197  0.004922211\n",
       "5   relative_humidity  3    2.734512e-05 0.022742197  0.004922211\n",
       "6   (Intercept)        4    2.063909e-03 0.020721843  0.007069198\n",
       "7   relative_humidity  4    4.042901e-05 0.020721843  0.007069198\n",
       "8   (Intercept)        5    1.240684e-03 0.018880972  0.009015646\n",
       "9   relative_humidity  5    5.307071e-05 0.018880972  0.009015646\n",
       "10  (Intercept)        6    4.481940e-04 0.017203638  0.010770603\n",
       "11  relative_humidity  6    6.524043e-05 0.017203638  0.010770603\n",
       "12  (Intercept)        7   -3.120185e-04 0.015675314  0.012344546\n",
       "13  relative_humidity  7    7.691449e-05 0.015675314  0.012344546\n",
       "14  (Intercept)        8   -1.038801e-03 0.014282763  0.013748988\n",
       "15  relative_humidity  8    8.807519e-05 0.014282763  0.013748988\n",
       "16  (Intercept)        9   -1.743212e-03 0.013013921  0.015024331\n",
       "17  relative_humidity  9    9.871060e-05 0.013013921  0.015024331\n",
       "18  wind_speed         9    1.083353e-06 0.013013921  0.015024331\n",
       "19  (Intercept)       10   -2.762888e-03 0.011857801  0.016939427\n",
       "20  relative_humidity 10    1.092970e-04 0.011857801  0.016939427\n",
       "21  wind_speed        10    3.131837e-05 0.011857801  0.016939427\n",
       "22  (Intercept)       11   -3.729722e-03 0.010804386  0.018628464\n",
       "23  relative_humidity 11    1.193274e-04 0.010804386  0.018628464\n",
       "24  wind_speed        11    6.003078e-05 0.010804386  0.018628464\n",
       "25  (Intercept)       12   -4.644795e-03 0.009844554  0.020113175\n",
       "26  relative_humidity 12    1.288185e-04 0.009844554  0.020113175\n",
       "27  wind_speed        12    8.722042e-05 0.009844554  0.020113175\n",
       "28  (Intercept)       13   -5.508514e-03 0.008969991  0.021412927\n",
       "29  relative_humidity 13    1.377747e-04 0.008969991  0.021412927\n",
       "30  wind_speed        13    1.128969e-04 0.008969991  0.021412927\n",
       "⋮   ⋮                 ⋮    ⋮             ⋮            ⋮          \n",
       "257 (Intercept)       62   -1.311052e-03 9.397104e-05 0.03757916 \n",
       "258 relative_humidity 62    3.301408e-04 9.397104e-05 0.03757916 \n",
       "259 dry_bulb_temp_f   62   -1.812999e-05 9.397104e-05 0.03757916 \n",
       "260 wind_speed        62    5.903489e-04 9.397104e-05 0.03757916 \n",
       "261 station_pressure  62   -7.197626e-04 9.397104e-05 0.03757916 \n",
       "262 (Intercept)       63   -1.300153e-03 8.562291e-05 0.03757992 \n",
       "263 relative_humidity 63    3.304214e-04 8.562291e-05 0.03757992 \n",
       "264 dry_bulb_temp_f   63   -1.817752e-05 8.562291e-05 0.03757992 \n",
       "265 wind_speed        63    5.910056e-04 8.562291e-05 0.03757992 \n",
       "266 station_pressure  63   -7.209225e-04 8.562291e-05 0.03757992 \n",
       "267 (Intercept)       64   -1.290214e-03 7.801641e-05 0.03758054 \n",
       "268 relative_humidity 64    3.306773e-04 7.801641e-05 0.03758054 \n",
       "269 dry_bulb_temp_f   64   -1.822078e-05 7.801641e-05 0.03758054 \n",
       "270 wind_speed        64    5.916044e-04 7.801641e-05 0.03758054 \n",
       "271 station_pressure  64   -7.219803e-04 7.801641e-05 0.03758054 \n",
       "272 (Intercept)       65   -1.281151e-03 7.108565e-05 0.03758106 \n",
       "273 relative_humidity 65    3.309106e-04 7.108565e-05 0.03758106 \n",
       "274 dry_bulb_temp_f   65   -1.826017e-05 7.108565e-05 0.03758106 \n",
       "275 wind_speed        65    5.921504e-04 7.108565e-05 0.03758106 \n",
       "276 station_pressure  65   -7.229450e-04 7.108565e-05 0.03758106 \n",
       "277 (Intercept)       66   -1.272886e-03 6.477059e-05 0.03758149 \n",
       "278 relative_humidity 66    3.311234e-04 6.477059e-05 0.03758149 \n",
       "279 dry_bulb_temp_f   66   -1.829603e-05 6.477059e-05 0.03758149 \n",
       "280 wind_speed        66    5.926483e-04 6.477059e-05 0.03758149 \n",
       "281 station_pressure  66   -7.238247e-04 6.477059e-05 0.03758149 \n",
       "282 (Intercept)       67   -1.265351e-03 5.901655e-05 0.03758185 \n",
       "283 relative_humidity 67    3.313173e-04 5.901655e-05 0.03758185 \n",
       "284 dry_bulb_temp_f   67   -1.832867e-05 5.901655e-05 0.03758185 \n",
       "285 wind_speed        67    5.931021e-04 5.901655e-05 0.03758185 \n",
       "286 station_pressure  67   -7.246268e-04 5.901655e-05 0.03758185 "
      ]
     },
     "metadata": {},
     "output_type": "display_data"
    }
   ],
   "source": [
    "elastic_spec <- linear_reg(penalty = 0.00346, mixture = 0.2) %>% set_engine(\"glmnet\")\n",
    "elastic_wf <- workflow() %>% add_recipe(weather_recipe)\n",
    "elastic_fit <- ridge_wf %>% add_model(elastic_spec) %>% fit(data=train_data)\n",
    "elastic_fit %>% pull_workflow_fit() %>% tidy()"
   ]
  },
  {
   "cell_type": "code",
   "execution_count": 46,
   "metadata": {
    "tags": []
   },
   "outputs": [
    {
     "data": {
      "text/html": [
       "<table>\n",
       "<caption>A tibble: 6 × 2</caption>\n",
       "<thead>\n",
       "\t<tr><th scope=col>.pred</th><th scope=col>truth</th></tr>\n",
       "\t<tr><th scope=col>&lt;dbl&gt;</th><th scope=col>&lt;dbl&gt;</th></tr>\n",
       "</thead>\n",
       "<tbody>\n",
       "\t<tr><td>0.0006900048</td><td>0.00</td></tr>\n",
       "\t<tr><td>0.0107102833</td><td>0.00</td></tr>\n",
       "\t<tr><td>0.0058999915</td><td>0.00</td></tr>\n",
       "\t<tr><td>0.0042945399</td><td>0.00</td></tr>\n",
       "\t<tr><td>0.0102492578</td><td>0.06</td></tr>\n",
       "\t<tr><td>0.0113883004</td><td>0.00</td></tr>\n",
       "</tbody>\n",
       "</table>\n"
      ],
      "text/latex": [
       "A tibble: 6 × 2\n",
       "\\begin{tabular}{ll}\n",
       " .pred & truth\\\\\n",
       " <dbl> & <dbl>\\\\\n",
       "\\hline\n",
       "\t 0.0006900048 & 0.00\\\\\n",
       "\t 0.0107102833 & 0.00\\\\\n",
       "\t 0.0058999915 & 0.00\\\\\n",
       "\t 0.0042945399 & 0.00\\\\\n",
       "\t 0.0102492578 & 0.06\\\\\n",
       "\t 0.0113883004 & 0.00\\\\\n",
       "\\end{tabular}\n"
      ],
      "text/markdown": [
       "\n",
       "A tibble: 6 × 2\n",
       "\n",
       "| .pred &lt;dbl&gt; | truth &lt;dbl&gt; |\n",
       "|---|---|\n",
       "| 0.0006900048 | 0.00 |\n",
       "| 0.0107102833 | 0.00 |\n",
       "| 0.0058999915 | 0.00 |\n",
       "| 0.0042945399 | 0.00 |\n",
       "| 0.0102492578 | 0.06 |\n",
       "| 0.0113883004 | 0.00 |\n",
       "\n"
      ],
      "text/plain": [
       "  .pred        truth\n",
       "1 0.0006900048 0.00 \n",
       "2 0.0107102833 0.00 \n",
       "3 0.0058999915 0.00 \n",
       "4 0.0042945399 0.00 \n",
       "5 0.0102492578 0.06 \n",
       "6 0.0113883004 0.00 "
      ]
     },
     "metadata": {},
     "output_type": "display_data"
    }
   ],
   "source": [
    "train_result7 <- elastic_fit %>% predict(new_data=train_data) %>% mutate(truth=train_data$precip)\n",
    "head(train_result7)"
   ]
  },
  {
   "cell_type": "markdown",
   "metadata": {},
   "source": [
    "<a id=\"cell10\"></a>\n",
    "## 10. Find Best Model\n",
    "Compare the regression metrics of each model from section 9 to find the best model overall. To do this, \n",
    "\n",
    "1. Evaluate the models on the **testing set** using at least one metric (like MSE, RMSE or R-squared).\n",
    "2. After calculating the metrics on the testing set for each model, print them out in as a table to easily compare. You can use something like:\n",
    "```\n",
    "model_names <- c(\"model_1\", \"model_2\", \"model_3\")\n",
    "train_error <- c(\"model_1_value\", \"model_2_value\", \"model_3_value\")\n",
    "test_error <- c(\"model_1_value\", \"model_2_value\", \"model_3_value\")\n",
    "comparison_df <- data.frame(model_names, train_error, test_error)\n",
    "```\n",
    "3. Finally, from the comparison table you create, conclude which model performed the best.\n"
   ]
  },
  {
   "cell_type": "code",
   "execution_count": 47,
   "metadata": {},
   "outputs": [
    {
     "data": {
      "text/html": [
       "<table>\n",
       "<caption>A tibble: 1 × 3</caption>\n",
       "<thead>\n",
       "\t<tr><th scope=col>.metric</th><th scope=col>.estimator</th><th scope=col>.estimate</th></tr>\n",
       "\t<tr><th scope=col>&lt;chr&gt;</th><th scope=col>&lt;chr&gt;</th><th scope=col>&lt;dbl&gt;</th></tr>\n",
       "</thead>\n",
       "<tbody>\n",
       "\t<tr><td>rsq</td><td>standard</td><td>0.02311915</td></tr>\n",
       "</tbody>\n",
       "</table>\n"
      ],
      "text/latex": [
       "A tibble: 1 × 3\n",
       "\\begin{tabular}{lll}\n",
       " .metric & .estimator & .estimate\\\\\n",
       " <chr> & <chr> & <dbl>\\\\\n",
       "\\hline\n",
       "\t rsq & standard & 0.02311915\\\\\n",
       "\\end{tabular}\n"
      ],
      "text/markdown": [
       "\n",
       "A tibble: 1 × 3\n",
       "\n",
       "| .metric &lt;chr&gt; | .estimator &lt;chr&gt; | .estimate &lt;dbl&gt; |\n",
       "|---|---|---|\n",
       "| rsq | standard | 0.02311915 |\n",
       "\n"
      ],
      "text/plain": [
       "  .metric .estimator .estimate \n",
       "1 rsq     standard   0.02311915"
      ]
     },
     "metadata": {},
     "output_type": "display_data"
    }
   ],
   "source": [
    "train_results1 <- train_fit1 %>% predict(new_data = train_data) %>% mutate(truth=train_data$precip)\n",
    "\n",
    "test_results1 <- train_fit1 %>% predict(new_data = test_data) %>% mutate(truth=test_data$precip)\n",
    "\n",
    "rsq(train_results1, truth=truth, estimate=.pred)"
   ]
  },
  {
   "cell_type": "code",
   "execution_count": 48,
   "metadata": {
    "tags": []
   },
   "outputs": [
    {
     "data": {
      "text/html": [
       "<table>\n",
       "<caption>A tibble: 1 × 3</caption>\n",
       "<thead>\n",
       "\t<tr><th scope=col>.metric</th><th scope=col>.estimator</th><th scope=col>.estimate</th></tr>\n",
       "\t<tr><th scope=col>&lt;chr&gt;</th><th scope=col>&lt;chr&gt;</th><th scope=col>&lt;dbl&gt;</th></tr>\n",
       "</thead>\n",
       "<tbody>\n",
       "\t<tr><td>rsq</td><td>standard</td><td>0.01975506</td></tr>\n",
       "</tbody>\n",
       "</table>\n"
      ],
      "text/latex": [
       "A tibble: 1 × 3\n",
       "\\begin{tabular}{lll}\n",
       " .metric & .estimator & .estimate\\\\\n",
       " <chr> & <chr> & <dbl>\\\\\n",
       "\\hline\n",
       "\t rsq & standard & 0.01975506\\\\\n",
       "\\end{tabular}\n"
      ],
      "text/markdown": [
       "\n",
       "A tibble: 1 × 3\n",
       "\n",
       "| .metric &lt;chr&gt; | .estimator &lt;chr&gt; | .estimate &lt;dbl&gt; |\n",
       "|---|---|---|\n",
       "| rsq | standard | 0.01975506 |\n",
       "\n"
      ],
      "text/plain": [
       "  .metric .estimator .estimate \n",
       "1 rsq     standard   0.01975506"
      ]
     },
     "metadata": {},
     "output_type": "display_data"
    }
   ],
   "source": [
    "rsq(test_results1, truth=truth, estimate=.pred)"
   ]
  },
  {
   "cell_type": "code",
   "execution_count": 49,
   "metadata": {
    "tags": []
   },
   "outputs": [
    {
     "data": {
      "text/html": [
       "<table>\n",
       "<caption>A tibble: 1 × 3</caption>\n",
       "<thead>\n",
       "\t<tr><th scope=col>.metric</th><th scope=col>.estimator</th><th scope=col>.estimate</th></tr>\n",
       "\t<tr><th scope=col>&lt;chr&gt;</th><th scope=col>&lt;chr&gt;</th><th scope=col>&lt;dbl&gt;</th></tr>\n",
       "</thead>\n",
       "<tbody>\n",
       "\t<tr><td>rsq</td><td>standard</td><td>3.376433e-05</td></tr>\n",
       "</tbody>\n",
       "</table>\n"
      ],
      "text/latex": [
       "A tibble: 1 × 3\n",
       "\\begin{tabular}{lll}\n",
       " .metric & .estimator & .estimate\\\\\n",
       " <chr> & <chr> & <dbl>\\\\\n",
       "\\hline\n",
       "\t rsq & standard & 3.376433e-05\\\\\n",
       "\\end{tabular}\n"
      ],
      "text/markdown": [
       "\n",
       "A tibble: 1 × 3\n",
       "\n",
       "| .metric &lt;chr&gt; | .estimator &lt;chr&gt; | .estimate &lt;dbl&gt; |\n",
       "|---|---|---|\n",
       "| rsq | standard | 3.376433e-05 |\n",
       "\n"
      ],
      "text/plain": [
       "  .metric .estimator .estimate   \n",
       "1 rsq     standard   3.376433e-05"
      ]
     },
     "metadata": {},
     "output_type": "display_data"
    }
   ],
   "source": [
    "train_results2 <- train_fit2 %>% predict(new_data = train_data) %>% mutate(truth=train_data$precip)\n",
    "\n",
    "test_results2 <- train_fit2 %>% predict(new_data = test_data) %>% mutate(truth=test_data$precip)\n",
    "\n",
    "rsq(train_results2, truth=truth, estimate=.pred)"
   ]
  },
  {
   "cell_type": "code",
   "execution_count": 50,
   "metadata": {
    "tags": []
   },
   "outputs": [
    {
     "data": {
      "text/html": [
       "<table>\n",
       "<caption>A tibble: 1 × 3</caption>\n",
       "<thead>\n",
       "\t<tr><th scope=col>.metric</th><th scope=col>.estimator</th><th scope=col>.estimate</th></tr>\n",
       "\t<tr><th scope=col>&lt;chr&gt;</th><th scope=col>&lt;chr&gt;</th><th scope=col>&lt;dbl&gt;</th></tr>\n",
       "</thead>\n",
       "<tbody>\n",
       "\t<tr><td>rsq</td><td>standard</td><td>0.005260571</td></tr>\n",
       "</tbody>\n",
       "</table>\n"
      ],
      "text/latex": [
       "A tibble: 1 × 3\n",
       "\\begin{tabular}{lll}\n",
       " .metric & .estimator & .estimate\\\\\n",
       " <chr> & <chr> & <dbl>\\\\\n",
       "\\hline\n",
       "\t rsq & standard & 0.005260571\\\\\n",
       "\\end{tabular}\n"
      ],
      "text/markdown": [
       "\n",
       "A tibble: 1 × 3\n",
       "\n",
       "| .metric &lt;chr&gt; | .estimator &lt;chr&gt; | .estimate &lt;dbl&gt; |\n",
       "|---|---|---|\n",
       "| rsq | standard | 0.005260571 |\n",
       "\n"
      ],
      "text/plain": [
       "  .metric .estimator .estimate  \n",
       "1 rsq     standard   0.005260571"
      ]
     },
     "metadata": {},
     "output_type": "display_data"
    }
   ],
   "source": [
    "rsq(test_results2, truth=truth, estimate=.pred)"
   ]
  },
  {
   "cell_type": "code",
   "execution_count": 51,
   "metadata": {
    "tags": []
   },
   "outputs": [
    {
     "data": {
      "text/html": [
       "<table>\n",
       "<caption>A tibble: 1 × 3</caption>\n",
       "<thead>\n",
       "\t<tr><th scope=col>.metric</th><th scope=col>.estimator</th><th scope=col>.estimate</th></tr>\n",
       "\t<tr><th scope=col>&lt;chr&gt;</th><th scope=col>&lt;chr&gt;</th><th scope=col>&lt;dbl&gt;</th></tr>\n",
       "</thead>\n",
       "<tbody>\n",
       "\t<tr><td>rsq</td><td>standard</td><td>0.004662577</td></tr>\n",
       "</tbody>\n",
       "</table>\n"
      ],
      "text/latex": [
       "A tibble: 1 × 3\n",
       "\\begin{tabular}{lll}\n",
       " .metric & .estimator & .estimate\\\\\n",
       " <chr> & <chr> & <dbl>\\\\\n",
       "\\hline\n",
       "\t rsq & standard & 0.004662577\\\\\n",
       "\\end{tabular}\n"
      ],
      "text/markdown": [
       "\n",
       "A tibble: 1 × 3\n",
       "\n",
       "| .metric &lt;chr&gt; | .estimator &lt;chr&gt; | .estimate &lt;dbl&gt; |\n",
       "|---|---|---|\n",
       "| rsq | standard | 0.004662577 |\n",
       "\n"
      ],
      "text/plain": [
       "  .metric .estimator .estimate  \n",
       "1 rsq     standard   0.004662577"
      ]
     },
     "metadata": {},
     "output_type": "display_data"
    }
   ],
   "source": [
    "train_results3 <- train_fit3 %>% predict(new_data = train_data) %>% mutate(truth=train_data$precip)\n",
    "\n",
    "test_results3 <- train_fit3 %>% predict(new_data = test_data) %>% mutate(truth=test_data$precip)\n",
    "\n",
    "rsq(train_results3, truth=truth, estimate=.pred)"
   ]
  },
  {
   "cell_type": "code",
   "execution_count": 52,
   "metadata": {
    "tags": []
   },
   "outputs": [
    {
     "data": {
      "text/html": [
       "<table>\n",
       "<caption>A tibble: 1 × 3</caption>\n",
       "<thead>\n",
       "\t<tr><th scope=col>.metric</th><th scope=col>.estimator</th><th scope=col>.estimate</th></tr>\n",
       "\t<tr><th scope=col>&lt;chr&gt;</th><th scope=col>&lt;chr&gt;</th><th scope=col>&lt;dbl&gt;</th></tr>\n",
       "</thead>\n",
       "<tbody>\n",
       "\t<tr><td>rsq</td><td>standard</td><td>0.006871544</td></tr>\n",
       "</tbody>\n",
       "</table>\n"
      ],
      "text/latex": [
       "A tibble: 1 × 3\n",
       "\\begin{tabular}{lll}\n",
       " .metric & .estimator & .estimate\\\\\n",
       " <chr> & <chr> & <dbl>\\\\\n",
       "\\hline\n",
       "\t rsq & standard & 0.006871544\\\\\n",
       "\\end{tabular}\n"
      ],
      "text/markdown": [
       "\n",
       "A tibble: 1 × 3\n",
       "\n",
       "| .metric &lt;chr&gt; | .estimator &lt;chr&gt; | .estimate &lt;dbl&gt; |\n",
       "|---|---|---|\n",
       "| rsq | standard | 0.006871544 |\n",
       "\n"
      ],
      "text/plain": [
       "  .metric .estimator .estimate  \n",
       "1 rsq     standard   0.006871544"
      ]
     },
     "metadata": {},
     "output_type": "display_data"
    }
   ],
   "source": [
    "rsq(test_results3, truth=truth, estimate=.pred)"
   ]
  },
  {
   "cell_type": "code",
   "execution_count": 53,
   "metadata": {
    "tags": []
   },
   "outputs": [
    {
     "data": {
      "text/html": [
       "<table>\n",
       "<caption>A tibble: 1 × 3</caption>\n",
       "<thead>\n",
       "\t<tr><th scope=col>.metric</th><th scope=col>.estimator</th><th scope=col>.estimate</th></tr>\n",
       "\t<tr><th scope=col>&lt;chr&gt;</th><th scope=col>&lt;chr&gt;</th><th scope=col>&lt;dbl&gt;</th></tr>\n",
       "</thead>\n",
       "<tbody>\n",
       "\t<tr><td>rsq</td><td>standard</td><td>0.000212917</td></tr>\n",
       "</tbody>\n",
       "</table>\n"
      ],
      "text/latex": [
       "A tibble: 1 × 3\n",
       "\\begin{tabular}{lll}\n",
       " .metric & .estimator & .estimate\\\\\n",
       " <chr> & <chr> & <dbl>\\\\\n",
       "\\hline\n",
       "\t rsq & standard & 0.000212917\\\\\n",
       "\\end{tabular}\n"
      ],
      "text/markdown": [
       "\n",
       "A tibble: 1 × 3\n",
       "\n",
       "| .metric &lt;chr&gt; | .estimator &lt;chr&gt; | .estimate &lt;dbl&gt; |\n",
       "|---|---|---|\n",
       "| rsq | standard | 0.000212917 |\n",
       "\n"
      ],
      "text/plain": [
       "  .metric .estimator .estimate  \n",
       "1 rsq     standard   0.000212917"
      ]
     },
     "metadata": {},
     "output_type": "display_data"
    }
   ],
   "source": [
    "train_results4 <- train_fit4 %>% predict(new_data = train_data) %>% mutate(truth=train_data$precip)\n",
    "\n",
    "test_results4 <- train_fit4 %>% predict(new_data = test_data) %>% mutate(truth=test_data$precip)\n",
    "\n",
    "rsq(train_results4, truth=truth, estimate=.pred)"
   ]
  },
  {
   "cell_type": "code",
   "execution_count": 54,
   "metadata": {
    "tags": []
   },
   "outputs": [
    {
     "data": {
      "text/html": [
       "<table>\n",
       "<caption>A tibble: 1 × 3</caption>\n",
       "<thead>\n",
       "\t<tr><th scope=col>.metric</th><th scope=col>.estimator</th><th scope=col>.estimate</th></tr>\n",
       "\t<tr><th scope=col>&lt;chr&gt;</th><th scope=col>&lt;chr&gt;</th><th scope=col>&lt;dbl&gt;</th></tr>\n",
       "</thead>\n",
       "<tbody>\n",
       "\t<tr><td>rsq</td><td>standard</td><td>0.0001941016</td></tr>\n",
       "</tbody>\n",
       "</table>\n"
      ],
      "text/latex": [
       "A tibble: 1 × 3\n",
       "\\begin{tabular}{lll}\n",
       " .metric & .estimator & .estimate\\\\\n",
       " <chr> & <chr> & <dbl>\\\\\n",
       "\\hline\n",
       "\t rsq & standard & 0.0001941016\\\\\n",
       "\\end{tabular}\n"
      ],
      "text/markdown": [
       "\n",
       "A tibble: 1 × 3\n",
       "\n",
       "| .metric &lt;chr&gt; | .estimator &lt;chr&gt; | .estimate &lt;dbl&gt; |\n",
       "|---|---|---|\n",
       "| rsq | standard | 0.0001941016 |\n",
       "\n"
      ],
      "text/plain": [
       "  .metric .estimator .estimate   \n",
       "1 rsq     standard   0.0001941016"
      ]
     },
     "metadata": {},
     "output_type": "display_data"
    }
   ],
   "source": [
    "rsq(test_results4, truth=truth, estimate=.pred)"
   ]
  },
  {
   "cell_type": "code",
   "execution_count": 55,
   "metadata": {
    "tags": []
   },
   "outputs": [
    {
     "data": {
      "text/html": [
       "<table>\n",
       "<caption>A tibble: 1 × 3</caption>\n",
       "<thead>\n",
       "\t<tr><th scope=col>.metric</th><th scope=col>.estimator</th><th scope=col>.estimate</th></tr>\n",
       "\t<tr><th scope=col>&lt;chr&gt;</th><th scope=col>&lt;chr&gt;</th><th scope=col>&lt;dbl&gt;</th></tr>\n",
       "</thead>\n",
       "<tbody>\n",
       "\t<tr><td>rsq</td><td>standard</td><td>0.0375836</td></tr>\n",
       "</tbody>\n",
       "</table>\n"
      ],
      "text/latex": [
       "A tibble: 1 × 3\n",
       "\\begin{tabular}{lll}\n",
       " .metric & .estimator & .estimate\\\\\n",
       " <chr> & <chr> & <dbl>\\\\\n",
       "\\hline\n",
       "\t rsq & standard & 0.0375836\\\\\n",
       "\\end{tabular}\n"
      ],
      "text/markdown": [
       "\n",
       "A tibble: 1 × 3\n",
       "\n",
       "| .metric &lt;chr&gt; | .estimator &lt;chr&gt; | .estimate &lt;dbl&gt; |\n",
       "|---|---|---|\n",
       "| rsq | standard | 0.0375836 |\n",
       "\n"
      ],
      "text/plain": [
       "  .metric .estimator .estimate\n",
       "1 rsq     standard   0.0375836"
      ]
     },
     "metadata": {},
     "output_type": "display_data"
    }
   ],
   "source": [
    "train_results5 <- train_fit5 %>% predict(new_data = train_data) %>% mutate(truth=train_data$precip)\n",
    "test_results5 <- train_fit5 %>% predict(new_data = test_data) %>% mutate(truth=test_data$precip)\n",
    "\n",
    "rsq(train_results5, truth=truth, estimate=.pred)"
   ]
  },
  {
   "cell_type": "code",
   "execution_count": 56,
   "metadata": {
    "tags": []
   },
   "outputs": [
    {
     "data": {
      "text/html": [
       "<table>\n",
       "<caption>A tibble: 1 × 3</caption>\n",
       "<thead>\n",
       "\t<tr><th scope=col>.metric</th><th scope=col>.estimator</th><th scope=col>.estimate</th></tr>\n",
       "\t<tr><th scope=col>&lt;chr&gt;</th><th scope=col>&lt;chr&gt;</th><th scope=col>&lt;dbl&gt;</th></tr>\n",
       "</thead>\n",
       "<tbody>\n",
       "\t<tr><td>rsq</td><td>standard</td><td>0.03376265</td></tr>\n",
       "</tbody>\n",
       "</table>\n"
      ],
      "text/latex": [
       "A tibble: 1 × 3\n",
       "\\begin{tabular}{lll}\n",
       " .metric & .estimator & .estimate\\\\\n",
       " <chr> & <chr> & <dbl>\\\\\n",
       "\\hline\n",
       "\t rsq & standard & 0.03376265\\\\\n",
       "\\end{tabular}\n"
      ],
      "text/markdown": [
       "\n",
       "A tibble: 1 × 3\n",
       "\n",
       "| .metric &lt;chr&gt; | .estimator &lt;chr&gt; | .estimate &lt;dbl&gt; |\n",
       "|---|---|---|\n",
       "| rsq | standard | 0.03376265 |\n",
       "\n"
      ],
      "text/plain": [
       "  .metric .estimator .estimate \n",
       "1 rsq     standard   0.03376265"
      ]
     },
     "metadata": {},
     "output_type": "display_data"
    }
   ],
   "source": [
    "rsq(test_results5, truth=truth, estimate=.pred)"
   ]
  },
  {
   "cell_type": "code",
   "execution_count": 57,
   "metadata": {
    "tags": []
   },
   "outputs": [
    {
     "data": {
      "text/html": [
       "<table>\n",
       "<caption>A tibble: 1 × 3</caption>\n",
       "<thead>\n",
       "\t<tr><th scope=col>.metric</th><th scope=col>.estimator</th><th scope=col>.estimate</th></tr>\n",
       "\t<tr><th scope=col>&lt;chr&gt;</th><th scope=col>&lt;chr&gt;</th><th scope=col>&lt;dbl&gt;</th></tr>\n",
       "</thead>\n",
       "<tbody>\n",
       "\t<tr><td>rsq</td><td>standard</td><td>0.03101175</td></tr>\n",
       "</tbody>\n",
       "</table>\n"
      ],
      "text/latex": [
       "A tibble: 1 × 3\n",
       "\\begin{tabular}{lll}\n",
       " .metric & .estimator & .estimate\\\\\n",
       " <chr> & <chr> & <dbl>\\\\\n",
       "\\hline\n",
       "\t rsq & standard & 0.03101175\\\\\n",
       "\\end{tabular}\n"
      ],
      "text/markdown": [
       "\n",
       "A tibble: 1 × 3\n",
       "\n",
       "| .metric &lt;chr&gt; | .estimator &lt;chr&gt; | .estimate &lt;dbl&gt; |\n",
       "|---|---|---|\n",
       "| rsq | standard | 0.03101175 |\n",
       "\n"
      ],
      "text/plain": [
       "  .metric .estimator .estimate \n",
       "1 rsq     standard   0.03101175"
      ]
     },
     "metadata": {},
     "output_type": "display_data"
    }
   ],
   "source": [
    "train_results6 <- ridge_fit %>% predict(new_data = train_data) %>% mutate(truth=train_data$precip)\n",
    "test_results6 <- ridge_fit %>% predict(new_data = test_data) %>% mutate(truth=test_data$precip)\n",
    "\n",
    "rsq(train_results6, truth=truth, estimate=.pred)"
   ]
  },
  {
   "cell_type": "code",
   "execution_count": 58,
   "metadata": {
    "tags": []
   },
   "outputs": [
    {
     "data": {
      "text/html": [
       "<table>\n",
       "<caption>A tibble: 1 × 3</caption>\n",
       "<thead>\n",
       "\t<tr><th scope=col>.metric</th><th scope=col>.estimator</th><th scope=col>.estimate</th></tr>\n",
       "\t<tr><th scope=col>&lt;chr&gt;</th><th scope=col>&lt;chr&gt;</th><th scope=col>&lt;dbl&gt;</th></tr>\n",
       "</thead>\n",
       "<tbody>\n",
       "\t<tr><td>rsq</td><td>standard</td><td>0.02900017</td></tr>\n",
       "</tbody>\n",
       "</table>\n"
      ],
      "text/latex": [
       "A tibble: 1 × 3\n",
       "\\begin{tabular}{lll}\n",
       " .metric & .estimator & .estimate\\\\\n",
       " <chr> & <chr> & <dbl>\\\\\n",
       "\\hline\n",
       "\t rsq & standard & 0.02900017\\\\\n",
       "\\end{tabular}\n"
      ],
      "text/markdown": [
       "\n",
       "A tibble: 1 × 3\n",
       "\n",
       "| .metric &lt;chr&gt; | .estimator &lt;chr&gt; | .estimate &lt;dbl&gt; |\n",
       "|---|---|---|\n",
       "| rsq | standard | 0.02900017 |\n",
       "\n"
      ],
      "text/plain": [
       "  .metric .estimator .estimate \n",
       "1 rsq     standard   0.02900017"
      ]
     },
     "metadata": {},
     "output_type": "display_data"
    }
   ],
   "source": [
    "rsq(test_results6, truth=truth, estimate=.pred)"
   ]
  },
  {
   "cell_type": "code",
   "execution_count": 59,
   "metadata": {
    "tags": []
   },
   "outputs": [
    {
     "data": {
      "text/html": [
       "<table>\n",
       "<caption>A tibble: 1 × 3</caption>\n",
       "<thead>\n",
       "\t<tr><th scope=col>.metric</th><th scope=col>.estimator</th><th scope=col>.estimate</th></tr>\n",
       "\t<tr><th scope=col>&lt;chr&gt;</th><th scope=col>&lt;chr&gt;</th><th scope=col>&lt;dbl&gt;</th></tr>\n",
       "</thead>\n",
       "<tbody>\n",
       "\t<tr><td>rsq</td><td>standard</td><td>0.0358368</td></tr>\n",
       "</tbody>\n",
       "</table>\n"
      ],
      "text/latex": [
       "A tibble: 1 × 3\n",
       "\\begin{tabular}{lll}\n",
       " .metric & .estimator & .estimate\\\\\n",
       " <chr> & <chr> & <dbl>\\\\\n",
       "\\hline\n",
       "\t rsq & standard & 0.0358368\\\\\n",
       "\\end{tabular}\n"
      ],
      "text/markdown": [
       "\n",
       "A tibble: 1 × 3\n",
       "\n",
       "| .metric &lt;chr&gt; | .estimator &lt;chr&gt; | .estimate &lt;dbl&gt; |\n",
       "|---|---|---|\n",
       "| rsq | standard | 0.0358368 |\n",
       "\n"
      ],
      "text/plain": [
       "  .metric .estimator .estimate\n",
       "1 rsq     standard   0.0358368"
      ]
     },
     "metadata": {},
     "output_type": "display_data"
    }
   ],
   "source": [
    "train_results7 <- elastic_fit %>% predict(new_data=train_data) %>% mutate(truth=train_data$precip)\n",
    "test_results7 <- ridge_fit %>% predict(new_data = test_data) %>% mutate(truth=test_data$precip)\n",
    "\n",
    "rsq(train_results7, truth=truth, estimate=.pred)"
   ]
  },
  {
   "cell_type": "code",
   "execution_count": 60,
   "metadata": {
    "tags": []
   },
   "outputs": [
    {
     "data": {
      "text/html": [
       "<table>\n",
       "<caption>A tibble: 1 × 3</caption>\n",
       "<thead>\n",
       "\t<tr><th scope=col>.metric</th><th scope=col>.estimator</th><th scope=col>.estimate</th></tr>\n",
       "\t<tr><th scope=col>&lt;chr&gt;</th><th scope=col>&lt;chr&gt;</th><th scope=col>&lt;dbl&gt;</th></tr>\n",
       "</thead>\n",
       "<tbody>\n",
       "\t<tr><td>rsq</td><td>standard</td><td>0.02900017</td></tr>\n",
       "</tbody>\n",
       "</table>\n"
      ],
      "text/latex": [
       "A tibble: 1 × 3\n",
       "\\begin{tabular}{lll}\n",
       " .metric & .estimator & .estimate\\\\\n",
       " <chr> & <chr> & <dbl>\\\\\n",
       "\\hline\n",
       "\t rsq & standard & 0.02900017\\\\\n",
       "\\end{tabular}\n"
      ],
      "text/markdown": [
       "\n",
       "A tibble: 1 × 3\n",
       "\n",
       "| .metric &lt;chr&gt; | .estimator &lt;chr&gt; | .estimate &lt;dbl&gt; |\n",
       "|---|---|---|\n",
       "| rsq | standard | 0.02900017 |\n",
       "\n"
      ],
      "text/plain": [
       "  .metric .estimator .estimate \n",
       "1 rsq     standard   0.02900017"
      ]
     },
     "metadata": {},
     "output_type": "display_data"
    }
   ],
   "source": [
    "rsq(test_results7, truth=truth, estimate=.pred)"
   ]
  },
  {
   "cell_type": "code",
   "execution_count": 61,
   "metadata": {
    "tags": []
   },
   "outputs": [
    {
     "data": {
      "text/html": [
       "<table>\n",
       "<caption>A data.frame: 7 × 3</caption>\n",
       "<thead>\n",
       "\t<tr><th scope=col>model_names</th><th scope=col>train_error</th><th scope=col>test_error</th></tr>\n",
       "\t<tr><th scope=col>&lt;fct&gt;</th><th scope=col>&lt;dbl&gt;</th><th scope=col>&lt;dbl&gt;</th></tr>\n",
       "</thead>\n",
       "<tbody>\n",
       "\t<tr><td>precip~humidity           </td><td>0.020300</td><td>0.035900</td></tr>\n",
       "\t<tr><td>precip~drybulbtemp        </td><td>0.000336</td><td>0.000237</td></tr>\n",
       "\t<tr><td>precip~windspeed          </td><td>0.002630</td><td>0.028700</td></tr>\n",
       "\t<tr><td>precip~stationpressure    </td><td>0.000162</td><td>0.000523</td></tr>\n",
       "\t<tr><td>Multiple Linear Regression</td><td>0.030200</td><td>0.081400</td></tr>\n",
       "\t<tr><td>Ridge (L2) regularization </td><td>0.024900</td><td>0.058500</td></tr>\n",
       "\t<tr><td>Elastic Net Regularization</td><td>0.028500</td><td>0.058500</td></tr>\n",
       "</tbody>\n",
       "</table>\n"
      ],
      "text/latex": [
       "A data.frame: 7 × 3\n",
       "\\begin{tabular}{lll}\n",
       " model\\_names & train\\_error & test\\_error\\\\\n",
       " <fct> & <dbl> & <dbl>\\\\\n",
       "\\hline\n",
       "\t precip\\textasciitilde{}humidity            & 0.020300 & 0.035900\\\\\n",
       "\t precip\\textasciitilde{}drybulbtemp         & 0.000336 & 0.000237\\\\\n",
       "\t precip\\textasciitilde{}windspeed           & 0.002630 & 0.028700\\\\\n",
       "\t precip\\textasciitilde{}stationpressure     & 0.000162 & 0.000523\\\\\n",
       "\t Multiple Linear Regression & 0.030200 & 0.081400\\\\\n",
       "\t Ridge (L2) regularization  & 0.024900 & 0.058500\\\\\n",
       "\t Elastic Net Regularization & 0.028500 & 0.058500\\\\\n",
       "\\end{tabular}\n"
      ],
      "text/markdown": [
       "\n",
       "A data.frame: 7 × 3\n",
       "\n",
       "| model_names &lt;fct&gt; | train_error &lt;dbl&gt; | test_error &lt;dbl&gt; |\n",
       "|---|---|---|\n",
       "| precip~humidity            | 0.020300 | 0.035900 |\n",
       "| precip~drybulbtemp         | 0.000336 | 0.000237 |\n",
       "| precip~windspeed           | 0.002630 | 0.028700 |\n",
       "| precip~stationpressure     | 0.000162 | 0.000523 |\n",
       "| Multiple Linear Regression | 0.030200 | 0.081400 |\n",
       "| Ridge (L2) regularization  | 0.024900 | 0.058500 |\n",
       "| Elastic Net Regularization | 0.028500 | 0.058500 |\n",
       "\n"
      ],
      "text/plain": [
       "  model_names                train_error test_error\n",
       "1 precip~humidity            0.020300    0.035900  \n",
       "2 precip~drybulbtemp         0.000336    0.000237  \n",
       "3 precip~windspeed           0.002630    0.028700  \n",
       "4 precip~stationpressure     0.000162    0.000523  \n",
       "5 Multiple Linear Regression 0.030200    0.081400  \n",
       "6 Ridge (L2) regularization  0.024900    0.058500  \n",
       "7 Elastic Net Regularization 0.028500    0.058500  "
      ]
     },
     "metadata": {},
     "output_type": "display_data"
    }
   ],
   "source": [
    "model_names <- c(\"precip~humidity\",\"precip~drybulbtemp\",\"precip~windspeed\",\"precip~stationpressure\",\"Multiple Linear Regression\", \"Ridge (L2) regularization\", \"Elastic Net Regularization\")\n",
    "train_error <- c(0.0203, 0.000336, 0.00263, 0.000162, 0.0302, 0.0249, 0.0285)\n",
    "test_error <- c(0.0359, 0.000237, 0.0287, 0.000523, 0.0814, 0.0585, 0.0585)\n",
    "\n",
    "comparison_df <- data.frame(model_names, train_error, test_error)\n",
    "comparison_df"
   ]
  },
  {
   "cell_type": "markdown",
   "metadata": {},
   "source": [
    "## Author(s)\n",
    "\n",
    "<h4> Yiwen Li </h4>\n",
    "\n",
    "## Contributions\n",
    "\n",
    "<h4> Tiffany Zhu </h4>\n",
    "\n",
    "## <h3 align=\"center\"> © IBM Corporation 2021. All rights reserved. <h3/>\n"
   ]
  }
 ],
 "metadata": {
  "kernelspec": {
   "display_name": "R",
   "language": "R",
   "name": "conda-env-r-r"
  },
  "language_info": {
   "codemirror_mode": "r",
   "file_extension": ".r",
   "mimetype": "text/x-r-source",
   "name": "R",
   "pygments_lexer": "r",
   "version": "3.5.1"
  }
 },
 "nbformat": 4,
 "nbformat_minor": 4
}
